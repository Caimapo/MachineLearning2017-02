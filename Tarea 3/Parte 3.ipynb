{
 "cells": [
  {
   "cell_type": "markdown",
   "metadata": {
    "collapsed": true
   },
   "source": [
    "# 3.Calidad de un vino\n",
    "\n",
    "Dentro de las muchas variedades de vino existentes, algunas gustan más que otras, esto es debido al gusto de una persona en particular o bien a la gran cantidad de químicos y procesos que se aplican a la producción de vino. Para el área de negocios, el estimar cuál es la calidad de un vino en base a la apreciación del público es una tarea bastante difícil.\n",
    "Para esta actividad se trabajará con dos datasets asociados a las variantes tinto y blanco del vino portugués ”Vinho Verde”[4]. Debido a temas privados solo se cuenta con las característcas fisioquímicas asociadas a un vino en particular, los cuales corresponden a 11 atributos numéricos descritos en el siguiente link. Este problema puede ser abordado como clasificación de 11 clases o de regresión, ya que el atributo a estimar,quality, es un valor entero entre 0 y 10.\n"
   ]
  },
  {
   "cell_type": "code",
   "execution_count": 1,
   "metadata": {},
   "outputs": [
    {
     "name": "stderr",
     "output_type": "stream",
     "text": [
      "Using TensorFlow backend.\n"
     ]
    }
   ],
   "source": [
    "import matplotlib.pyplot as plt\n",
    "import numpy             as np\n",
    "import pandas            as pd\n",
    "from   sklearn.utils           import check_random_state\n",
    "from   sklearn.model_selection import train_test_split\n",
    "from keras.models import Sequential\n",
    "from keras.layers import Dense\n",
    "from keras.optimizers import SGD\n",
    "import itertools\n",
    "from sklearn.ensemble import RandomForestClassifier\n",
    "from sklearn.metrics import f1_score"
   ]
  },
  {
   "cell_type": "markdown",
   "metadata": {},
   "source": [
    "#### (a)  Carge los dos dataset en un único dataframe de pandas, además de agregar una columna indicando si es vino tinto o blanco. Describa el dataset a trabajar."
   ]
  },
  {
   "cell_type": "code",
   "execution_count": 2,
   "metadata": {
    "collapsed": true
   },
   "outputs": [],
   "source": [
    "df_red = pd.read_csv(\"winequality-red.csv\",sep=\";\")\n",
    "#1 tinto\n",
    "df_red['Tipo'] = 1.0\n",
    "df_white = pd.read_csv(\"winequality-white.csv\",sep=\";\")\n",
    "#0 blanco\n",
    "df_white['Tipo'] = 0.0\n",
    "\n",
    "df = pd.concat([df_red,df_white], axis=0)"
   ]
  },
  {
   "cell_type": "code",
   "execution_count": 3,
   "metadata": {},
   "outputs": [
    {
     "data": {
      "text/html": [
       "<div>\n",
       "<style scoped>\n",
       "    .dataframe tbody tr th:only-of-type {\n",
       "        vertical-align: middle;\n",
       "    }\n",
       "\n",
       "    .dataframe tbody tr th {\n",
       "        vertical-align: top;\n",
       "    }\n",
       "\n",
       "    .dataframe thead th {\n",
       "        text-align: right;\n",
       "    }\n",
       "</style>\n",
       "<table border=\"1\" class=\"dataframe\">\n",
       "  <thead>\n",
       "    <tr style=\"text-align: right;\">\n",
       "      <th></th>\n",
       "      <th>fixed acidity</th>\n",
       "      <th>volatile acidity</th>\n",
       "      <th>citric acid</th>\n",
       "      <th>residual sugar</th>\n",
       "      <th>chlorides</th>\n",
       "      <th>free sulfur dioxide</th>\n",
       "      <th>total sulfur dioxide</th>\n",
       "      <th>density</th>\n",
       "      <th>pH</th>\n",
       "      <th>sulphates</th>\n",
       "      <th>alcohol</th>\n",
       "      <th>quality</th>\n",
       "      <th>Tipo</th>\n",
       "    </tr>\n",
       "  </thead>\n",
       "  <tbody>\n",
       "    <tr>\n",
       "      <th>0</th>\n",
       "      <td>7.4</td>\n",
       "      <td>0.70</td>\n",
       "      <td>0.00</td>\n",
       "      <td>1.9</td>\n",
       "      <td>0.076</td>\n",
       "      <td>11.0</td>\n",
       "      <td>34.0</td>\n",
       "      <td>0.9978</td>\n",
       "      <td>3.51</td>\n",
       "      <td>0.56</td>\n",
       "      <td>9.4</td>\n",
       "      <td>5</td>\n",
       "      <td>1.0</td>\n",
       "    </tr>\n",
       "    <tr>\n",
       "      <th>1</th>\n",
       "      <td>7.8</td>\n",
       "      <td>0.88</td>\n",
       "      <td>0.00</td>\n",
       "      <td>2.6</td>\n",
       "      <td>0.098</td>\n",
       "      <td>25.0</td>\n",
       "      <td>67.0</td>\n",
       "      <td>0.9968</td>\n",
       "      <td>3.20</td>\n",
       "      <td>0.68</td>\n",
       "      <td>9.8</td>\n",
       "      <td>5</td>\n",
       "      <td>1.0</td>\n",
       "    </tr>\n",
       "    <tr>\n",
       "      <th>2</th>\n",
       "      <td>7.8</td>\n",
       "      <td>0.76</td>\n",
       "      <td>0.04</td>\n",
       "      <td>2.3</td>\n",
       "      <td>0.092</td>\n",
       "      <td>15.0</td>\n",
       "      <td>54.0</td>\n",
       "      <td>0.9970</td>\n",
       "      <td>3.26</td>\n",
       "      <td>0.65</td>\n",
       "      <td>9.8</td>\n",
       "      <td>5</td>\n",
       "      <td>1.0</td>\n",
       "    </tr>\n",
       "    <tr>\n",
       "      <th>3</th>\n",
       "      <td>11.2</td>\n",
       "      <td>0.28</td>\n",
       "      <td>0.56</td>\n",
       "      <td>1.9</td>\n",
       "      <td>0.075</td>\n",
       "      <td>17.0</td>\n",
       "      <td>60.0</td>\n",
       "      <td>0.9980</td>\n",
       "      <td>3.16</td>\n",
       "      <td>0.58</td>\n",
       "      <td>9.8</td>\n",
       "      <td>6</td>\n",
       "      <td>1.0</td>\n",
       "    </tr>\n",
       "    <tr>\n",
       "      <th>4</th>\n",
       "      <td>7.4</td>\n",
       "      <td>0.70</td>\n",
       "      <td>0.00</td>\n",
       "      <td>1.9</td>\n",
       "      <td>0.076</td>\n",
       "      <td>11.0</td>\n",
       "      <td>34.0</td>\n",
       "      <td>0.9978</td>\n",
       "      <td>3.51</td>\n",
       "      <td>0.56</td>\n",
       "      <td>9.4</td>\n",
       "      <td>5</td>\n",
       "      <td>1.0</td>\n",
       "    </tr>\n",
       "  </tbody>\n",
       "</table>\n",
       "</div>"
      ],
      "text/plain": [
       "   fixed acidity  volatile acidity  citric acid  residual sugar  chlorides  \\\n",
       "0            7.4              0.70         0.00             1.9      0.076   \n",
       "1            7.8              0.88         0.00             2.6      0.098   \n",
       "2            7.8              0.76         0.04             2.3      0.092   \n",
       "3           11.2              0.28         0.56             1.9      0.075   \n",
       "4            7.4              0.70         0.00             1.9      0.076   \n",
       "\n",
       "   free sulfur dioxide  total sulfur dioxide  density    pH  sulphates  \\\n",
       "0                 11.0                  34.0   0.9978  3.51       0.56   \n",
       "1                 25.0                  67.0   0.9968  3.20       0.68   \n",
       "2                 15.0                  54.0   0.9970  3.26       0.65   \n",
       "3                 17.0                  60.0   0.9980  3.16       0.58   \n",
       "4                 11.0                  34.0   0.9978  3.51       0.56   \n",
       "\n",
       "   alcohol  quality  Tipo  \n",
       "0      9.4        5   1.0  \n",
       "1      9.8        5   1.0  \n",
       "2      9.8        5   1.0  \n",
       "3      9.8        6   1.0  \n",
       "4      9.4        5   1.0  "
      ]
     },
     "execution_count": 3,
     "metadata": {},
     "output_type": "execute_result"
    }
   ],
   "source": [
    "df.head()"
   ]
  },
  {
   "cell_type": "code",
   "execution_count": null,
   "metadata": {
    "collapsed": true
   },
   "outputs": [],
   "source": []
  },
  {
   "cell_type": "markdown",
   "metadata": {},
   "source": [
    "#### (b)  Aborde este problema como si fuera de clasificación binaria para predecir si un vino es de buena calidad o no, es decir, utilice las distintas características fisioquímicas presentes en los datos para estimar esta etiqueta. Para esto cree las matrices de entrenamiento y de pruebas, además de la etiqueta para ambos conjuntos,  considerando  como quality mayor  a  5  un  vino  de  buena  calidad.  El  conjunto  de  pruebas (25 %) será utilizado únicamente para verificar la calidad de los algoritmos a entrenar."
   ]
  },
  {
   "cell_type": "markdown",
   "metadata": {},
   "source": [
    "Se procede creando el dataset"
   ]
  },
  {
   "cell_type": "code",
   "execution_count": 4,
   "metadata": {
    "collapsed": true
   },
   "outputs": [],
   "source": [
    "df['good_quality'] = [1 if q>5 else 0 for q in df.quality]\n",
    "df = df.drop('quality',axis=1)\n",
    "#execute only once"
   ]
  },
  {
   "cell_type": "code",
   "execution_count": 5,
   "metadata": {
    "collapsed": true
   },
   "outputs": [],
   "source": [
    "y = df.good_quality\n",
    "X = df.drop('good_quality',axis=1)\n",
    "#execute only once"
   ]
  },
  {
   "cell_type": "markdown",
   "metadata": {},
   "source": [
    "Luego definir nuestros datos,se separan los datos que usaremos de training y de testing "
   ]
  },
  {
   "cell_type": "code",
   "execution_count": 7,
   "metadata": {
    "collapsed": true
   },
   "outputs": [],
   "source": [
    "X_train,X_test,y_train,y_test = train_test_split(X, y,test_size=0.25, random_state=44)"
   ]
  },
  {
   "cell_type": "code",
   "execution_count": 8,
   "metadata": {
    "scrolled": false
   },
   "outputs": [
    {
     "data": {
      "text/html": [
       "<div>\n",
       "<style scoped>\n",
       "    .dataframe tbody tr th:only-of-type {\n",
       "        vertical-align: middle;\n",
       "    }\n",
       "\n",
       "    .dataframe tbody tr th {\n",
       "        vertical-align: top;\n",
       "    }\n",
       "\n",
       "    .dataframe thead th {\n",
       "        text-align: right;\n",
       "    }\n",
       "</style>\n",
       "<table border=\"1\" class=\"dataframe\">\n",
       "  <thead>\n",
       "    <tr style=\"text-align: right;\">\n",
       "      <th></th>\n",
       "      <th>fixed acidity</th>\n",
       "      <th>volatile acidity</th>\n",
       "      <th>citric acid</th>\n",
       "      <th>residual sugar</th>\n",
       "      <th>chlorides</th>\n",
       "      <th>free sulfur dioxide</th>\n",
       "      <th>total sulfur dioxide</th>\n",
       "      <th>density</th>\n",
       "      <th>pH</th>\n",
       "      <th>sulphates</th>\n",
       "      <th>alcohol</th>\n",
       "      <th>Tipo</th>\n",
       "    </tr>\n",
       "  </thead>\n",
       "  <tbody>\n",
       "    <tr>\n",
       "      <th>0</th>\n",
       "      <td>7.4</td>\n",
       "      <td>0.70</td>\n",
       "      <td>0.00</td>\n",
       "      <td>1.9</td>\n",
       "      <td>0.076</td>\n",
       "      <td>11.0</td>\n",
       "      <td>34.0</td>\n",
       "      <td>0.9978</td>\n",
       "      <td>3.51</td>\n",
       "      <td>0.56</td>\n",
       "      <td>9.4</td>\n",
       "      <td>1.0</td>\n",
       "    </tr>\n",
       "    <tr>\n",
       "      <th>1</th>\n",
       "      <td>7.8</td>\n",
       "      <td>0.88</td>\n",
       "      <td>0.00</td>\n",
       "      <td>2.6</td>\n",
       "      <td>0.098</td>\n",
       "      <td>25.0</td>\n",
       "      <td>67.0</td>\n",
       "      <td>0.9968</td>\n",
       "      <td>3.20</td>\n",
       "      <td>0.68</td>\n",
       "      <td>9.8</td>\n",
       "      <td>1.0</td>\n",
       "    </tr>\n",
       "    <tr>\n",
       "      <th>2</th>\n",
       "      <td>7.8</td>\n",
       "      <td>0.76</td>\n",
       "      <td>0.04</td>\n",
       "      <td>2.3</td>\n",
       "      <td>0.092</td>\n",
       "      <td>15.0</td>\n",
       "      <td>54.0</td>\n",
       "      <td>0.9970</td>\n",
       "      <td>3.26</td>\n",
       "      <td>0.65</td>\n",
       "      <td>9.8</td>\n",
       "      <td>1.0</td>\n",
       "    </tr>\n",
       "    <tr>\n",
       "      <th>3</th>\n",
       "      <td>11.2</td>\n",
       "      <td>0.28</td>\n",
       "      <td>0.56</td>\n",
       "      <td>1.9</td>\n",
       "      <td>0.075</td>\n",
       "      <td>17.0</td>\n",
       "      <td>60.0</td>\n",
       "      <td>0.9980</td>\n",
       "      <td>3.16</td>\n",
       "      <td>0.58</td>\n",
       "      <td>9.8</td>\n",
       "      <td>1.0</td>\n",
       "    </tr>\n",
       "    <tr>\n",
       "      <th>4</th>\n",
       "      <td>7.4</td>\n",
       "      <td>0.70</td>\n",
       "      <td>0.00</td>\n",
       "      <td>1.9</td>\n",
       "      <td>0.076</td>\n",
       "      <td>11.0</td>\n",
       "      <td>34.0</td>\n",
       "      <td>0.9978</td>\n",
       "      <td>3.51</td>\n",
       "      <td>0.56</td>\n",
       "      <td>9.4</td>\n",
       "      <td>1.0</td>\n",
       "    </tr>\n",
       "  </tbody>\n",
       "</table>\n",
       "</div>"
      ],
      "text/plain": [
       "   fixed acidity  volatile acidity  citric acid  residual sugar  chlorides  \\\n",
       "0            7.4              0.70         0.00             1.9      0.076   \n",
       "1            7.8              0.88         0.00             2.6      0.098   \n",
       "2            7.8              0.76         0.04             2.3      0.092   \n",
       "3           11.2              0.28         0.56             1.9      0.075   \n",
       "4            7.4              0.70         0.00             1.9      0.076   \n",
       "\n",
       "   free sulfur dioxide  total sulfur dioxide  density    pH  sulphates  \\\n",
       "0                 11.0                  34.0   0.9978  3.51       0.56   \n",
       "1                 25.0                  67.0   0.9968  3.20       0.68   \n",
       "2                 15.0                  54.0   0.9970  3.26       0.65   \n",
       "3                 17.0                  60.0   0.9980  3.16       0.58   \n",
       "4                 11.0                  34.0   0.9978  3.51       0.56   \n",
       "\n",
       "   alcohol  Tipo  \n",
       "0      9.4   1.0  \n",
       "1      9.8   1.0  \n",
       "2      9.8   1.0  \n",
       "3      9.8   1.0  \n",
       "4      9.4   1.0  "
      ]
     },
     "execution_count": 8,
     "metadata": {},
     "output_type": "execute_result"
    }
   ],
   "source": [
    "X.head()"
   ]
  },
  {
   "cell_type": "markdown",
   "metadata": {},
   "source": [
    "#### (c)  Entrene un solo Árbol de Clasificación de múltiples niveles para resolver el problema. Puede variar los hiper-parámetros que prefiera, recuerde que las decisiones no pueden ser basadas mirando el conjuntode pruebas. Debido al desbalanceo que se produce en las dos clases mida la métrica F1-score [5] sobre el conjunto de entrenamiento y de pruebas."
   ]
  },
  {
   "cell_type": "markdown",
   "metadata": {},
   "source": [
    "Teniendo que elegir los hiper parámetros, se decido usar GridSearch para encontrar los valores más apropiados"
   ]
  },
  {
   "cell_type": "code",
   "execution_count": 9,
   "metadata": {},
   "outputs": [
    {
     "name": "stdout",
     "output_type": "stream",
     "text": [
      "Mejor: 0.748153 usando {'criterion': 'entropy', 'max_depth': 31, 'splitter': 'random'} \n",
      "Finalizado.\n"
     ]
    }
   ],
   "source": [
    "from sklearn.tree import DecisionTreeClassifier as Tree\n",
    "from sklearn.metrics import classification_report,mean_absolute_error\n",
    "import itertools\n",
    "from sklearn.model_selection import GridSearchCV\n",
    "\n",
    "\n",
    "def score_the_model(model,x,y,xt,yt,name,targets):\n",
    "    acc_tr = model.score(x,y)\n",
    "    acc_test = model.score(xt,yt)\n",
    "    print(\"sklearn decision tree, training error: %f\" %mean_absolute_error(y, model.predict(x)))\n",
    "    print(\"sklearn decision tree, testing error: %f\" %mean_absolute_error(yt, model.predict(xt)))\n",
    "    print (\"%s Training Accuracy: %f\"%(name,acc_tr))\n",
    "    print (\"%s Test Accuracy: %f\"%(name,acc_test))\n",
    "    print (\"Detailed Analysis Testing Results ...\")\n",
    "    print (classification_report(yt, model.predict(xt),target_names=targets))\n",
    "    \n",
    "criterion =['gini','entropy']\n",
    "splitter = ['best','random']\n",
    "N_t = range(1,50)\n",
    "model = Tree(random_state=0)\n",
    "    \n",
    "param_grid = dict(criterion = criterion,splitter = splitter, max_depth=N_t)\n",
    "grid = GridSearchCV(estimator = model,param_grid=param_grid,n_jobs=-1)\n",
    "grid_result = grid.fit(X_train,y_train)\n",
    "\n",
    "print('Mejor: %f usando %s '%(grid_result.best_score_,grid_result.best_params_))\n",
    "means = grid_result.cv_results_['mean_test_score']\n",
    "stds = grid_result.cv_results_['std_test_score']\n",
    "params = grid_result.cv_results_['params']\n",
    "\n",
    "#for mean,std,param in zip(means,stds,params):\n",
    "#    print('%f (%f) con : %r '%(mean,std,param))\n",
    "\n",
    "print('Finalizado.')\n"
   ]
  },
  {
   "cell_type": "markdown",
   "metadata": {},
   "source": [
    "Se obtuvo (solo con los datos de training) que lo mejor que se adapta al modelo, es usar un criterio de entropy, con un split random y una profundiad maxima de 31."
   ]
  },
  {
   "cell_type": "code",
   "execution_count": 9,
   "metadata": {
    "scrolled": true
   },
   "outputs": [
    {
     "name": "stdout",
     "output_type": "stream",
     "text": [
      "sklearn decision tree, training error: 0.000000\n",
      "sklearn decision tree, testing error: 0.229538\n",
      "entropy-random-31 Training Accuracy: 1.000000\n",
      "entropy-random-31 Test Accuracy: 0.770462\n",
      "Detailed Analysis Testing Results ...\n",
      "             precision    recall  f1-score   support\n",
      "\n",
      "      bueno       0.69      0.69      0.69       610\n",
      "       malo       0.82      0.82      0.82      1015\n",
      "\n",
      "avg / total       0.77      0.77      0.77      1625\n",
      "\n"
     ]
    }
   ],
   "source": [
    "model = Tree(criterion='entropy',splitter='random',random_state=0,max_depth=31)\n",
    "model.fit(X_train,y_train)\n",
    "\n",
    "score_the_model(model,X_train,y_train,X_test,y_test,'entropy-random-31',['bueno','malo'])"
   ]
  },
  {
   "cell_type": "code",
   "execution_count": 10,
   "metadata": {},
   "outputs": [
    {
     "data": {
      "text/plain": [
       "1.0"
      ]
     },
     "execution_count": 10,
     "metadata": {},
     "output_type": "execute_result"
    }
   ],
   "source": [
    "#f1_score(y_test, model.predict(X_test))\n",
    "f1_score(y_train,model.predict(X_train))"
   ]
  },
  {
   "cell_type": "markdown",
   "metadata": {},
   "source": [
    "Con las medidas precision y recall se observa que estas estan a la par para cada clase, por lo que el fscore balanceado se comporta de la misma manera. En cuanto al training el f1 score se encontra al 100% debido a que esta sobreajustado."
   ]
  },
  {
   "cell_type": "markdown",
   "metadata": {},
   "source": [
    "#### (d)  Entrene un ensamblador de árboles de múltiples niveles, mediante la técnica de Random Forest. Varíe la cantidad de árboles de decisión utilizados en el ensamblado ($n_estimators$), realice un gráfico resumen del F1-score de entrenamiento y de pruebas en función de este hiper-parámetro."
   ]
  },
  {
   "cell_type": "code",
   "execution_count": 11,
   "metadata": {},
   "outputs": [
    {
     "name": "stdout",
     "output_type": "stream",
     "text": [
      "Mejor: 0.745279 usando {'criterion': 'entropy', 'max_depth': 8} \n"
     ]
    }
   ],
   "source": [
    "N_t = range(1,50)\n",
    "criterion =['gini','entropy']\n",
    "N_t = range(1,50)\n",
    "model = Tree(random_state=0)\n",
    "param_grid = dict(criterion = criterion, max_depth=N_t)\n",
    "grid = GridSearchCV(estimator = model,param_grid=param_grid,n_jobs=-1)\n",
    "grid_result = grid.fit(X_train,y_train)\n",
    "\n",
    "print('Mejor: %f usando %s '%(grid_result.best_score_,grid_result.best_params_))\n",
    "means = grid_result.cv_results_['mean_test_score']\n",
    "stds = grid_result.cv_results_['std_test_score']\n",
    "params = grid_result.cv_results_['params']"
   ]
  },
  {
   "cell_type": "markdown",
   "metadata": {},
   "source": [
    "Se elige un modelo de tree {'criterion': 'entropy', 'max_depth': 8} "
   ]
  },
  {
   "cell_type": "code",
   "execution_count": 13,
   "metadata": {},
   "outputs": [
    {
     "data": {
      "image/png": "[encoded data removed]",
      "text/plain": [
       "<matplotlib.figure.Figure at 0x1fc8d2ba8d0>"
      ]
     },
     "metadata": {},
     "output_type": "display_data"
    }
   ],
   "source": [
    "from sklearn.ensemble import RandomForestClassifier\n",
    "from sklearn.metrics import f1_score\n",
    "N_t = range(1,101)\n",
    "info_train = []\n",
    "info_test = []\n",
    "for n in N_t:\n",
    "    model = RandomForestClassifier(max_depth=8,criterion='entropy',n_estimators=n,n_jobs=-1)\n",
    "    model.fit(X_train,y_train)\n",
    "    y_true = y_test\n",
    "    y_pred = model.predict(X_test)\n",
    "    info_train.append(f1_score(y_train, model.predict(X_train)))\n",
    "    info_test.append(f1_score(y_true, y_pred))\n",
    "\n",
    "\n",
    "plt.figure( figsize=(15,5))\n",
    "plt.plot(N_t,info_train, label = \"Training set\")\n",
    "plt.plot(N_t,info_test, label = \"Test set\")\n",
    "plt.xticks(N_t)\n",
    "plt.xlabel('n estimators')\n",
    "plt.ylabel('f1 score')\n",
    "plt.title('Random Forest')\n",
    "plt.legend(loc = 'upper right')\n",
    "plt.show()"
   ]
  },
  {
   "cell_type": "markdown",
   "metadata": {},
   "source": [
    "#### (e)  Entrene  un  ensamblador  de  árboles  de  múltiples  niveles,  mediante  la  técnica  de $AdaBoost$ .  Varíe  la cantidad de árboles de decisión utilizados en el ensamblado ($n_estimators$), realice un gráfico resumendel F1-score de entrenamiento y de pruebas en función de este hiper-parámetro. Compare y analice con la técnica utilizada en d)."
   ]
  },
  {
   "cell_type": "markdown",
   "metadata": {},
   "source": [
    "Se usa el mismo modelo de arbol (max_depth=8, criterio =entropy) para poder coomparar las tecnicas de ensamble"
   ]
  },
  {
   "cell_type": "code",
   "execution_count": 159,
   "metadata": {},
   "outputs": [
    {
     "data": {
      "image/png": "[encoded data removed]",
      "text/plain": [
       "<matplotlib.figure.Figure at 0x1ed1d94ada0>"
      ]
     },
     "metadata": {},
     "output_type": "display_data"
    }
   ],
   "source": [
    "from sklearn.ensemble import AdaBoostClassifier\n",
    "N_t = range(1,101)\n",
    "info_train = []\n",
    "info_test = []\n",
    "for n in N_t:\n",
    "    model = AdaBoostClassifier(base_estimator=Tree(max_depth=8,criterion='entropy'), n_estimators=n)\n",
    "    model.fit(X_train,y_train)\n",
    "    y_true = y_test\n",
    "    y_pred = model.predict(X_test)\n",
    "    info_train.append(f1_score(y_train, model.predict(X_train)))\n",
    "    info_test.append(f1_score(y_true, y_pred))\n",
    "\n",
    "\n",
    "plt.figure( figsize=(15,5))\n",
    "plt.plot(N_t,info_train, label = \"Training set\")\n",
    "plt.plot(N_t,info_test, label = \"Test set\")\n",
    "plt.xticks(N_t)\n",
    "plt.xlabel('n estimators')\n",
    "plt.ylabel('f1 score')\n",
    "plt.title('AdaBoost ')\n",
    "plt.legend(loc = 'upper right')\n",
    "plt.show()"
   ]
  },
  {
   "cell_type": "markdown",
   "metadata": {},
   "source": [
    "#### (f)  Entrene alguna otra máquina de aprendizaje, elegida por usted, para resolver este problema. Elija los hiper-parámetros que estime convenientes intentando aumentar el F1-score obtenido por los algoritmos anteriores. Compare y analice estas 4 maneras de resolver el problema definido en b)."
   ]
  },
  {
   "cell_type": "code",
   "execution_count": 15,
   "metadata": {
    "scrolled": true
   },
   "outputs": [
    {
     "name": "stdout",
     "output_type": "stream",
     "text": [
      "Epoch 1/100\n",
      "4872/4872 [==============================] - 1s 264us/step - loss: 0.9366 - acc: 0.6069\n",
      "Epoch 2/100\n",
      "4872/4872 [==============================] - 1s 202us/step - loss: 0.6308 - acc: 0.6427\n",
      "Epoch 3/100\n",
      "4872/4872 [==============================] - 1s 177us/step - loss: 0.6028 - acc: 0.6652\n",
      "Epoch 4/100\n",
      "4872/4872 [==============================] - 1s 160us/step - loss: 0.5825 - acc: 0.6903\n",
      "Epoch 5/100\n",
      "4872/4872 [==============================] - 1s 166us/step - loss: 0.5794 - acc: 0.6890\n",
      "Epoch 6/100\n",
      "4872/4872 [==============================] - 1s 212us/step - loss: 0.5715 - acc: 0.6952\n",
      "Epoch 7/100\n",
      "4872/4872 [==============================] - 1s 169us/step - loss: 0.5607 - acc: 0.6997\n",
      "Epoch 8/100\n",
      "4872/4872 [==============================] - 1s 156us/step - loss: 0.5606 - acc: 0.6997\n",
      "Epoch 9/100\n",
      "4872/4872 [==============================] - 1s 176us/step - loss: 0.5573 - acc: 0.7036\n",
      "Epoch 10/100\n",
      "4872/4872 [==============================] - 1s 181us/step - loss: 0.5519 - acc: 0.7079\n",
      "Epoch 11/100\n",
      "4872/4872 [==============================] - 1s 180us/step - loss: 0.5652 - acc: 0.7050\n",
      "Epoch 12/100\n",
      "4872/4872 [==============================] - 1s 162us/step - loss: 0.5551 - acc: 0.7100\n",
      "Epoch 13/100\n",
      "4872/4872 [==============================] - 1s 185us/step - loss: 0.5545 - acc: 0.7077\n",
      "Epoch 14/100\n",
      "4872/4872 [==============================] - 1s 154us/step - loss: 0.5381 - acc: 0.7227\n",
      "Epoch 15/100\n",
      "4872/4872 [==============================] - 1s 170us/step - loss: 0.5463 - acc: 0.7145\n",
      "Epoch 16/100\n",
      "4872/4872 [==============================] - 1s 176us/step - loss: 0.5334 - acc: 0.7293\n",
      "Epoch 17/100\n",
      "4872/4872 [==============================] - 1s 151us/step - loss: 0.5405 - acc: 0.7213\n",
      "Epoch 18/100\n",
      "4872/4872 [==============================] - 1s 180us/step - loss: 0.5346 - acc: 0.7161\n",
      "Epoch 19/100\n",
      "4872/4872 [==============================] - 1s 145us/step - loss: 0.5396 - acc: 0.7170\n",
      "Epoch 20/100\n",
      "4872/4872 [==============================] - 1s 176us/step - loss: 0.5334 - acc: 0.7217\n",
      "Epoch 21/100\n",
      "4872/4872 [==============================] - 1s 156us/step - loss: 0.5364 - acc: 0.7229\n",
      "Epoch 22/100\n",
      "4872/4872 [==============================] - 1s 144us/step - loss: 0.5418 - acc: 0.7139\n",
      "Epoch 23/100\n",
      "4872/4872 [==============================] - 1s 180us/step - loss: 0.5255 - acc: 0.7266\n",
      "Epoch 24/100\n",
      "4872/4872 [==============================] - 1s 157us/step - loss: 0.5323 - acc: 0.7188\n",
      "Epoch 25/100\n",
      "4872/4872 [==============================] - 1s 190us/step - loss: 0.5385 - acc: 0.7219\n",
      "Epoch 26/100\n",
      "4872/4872 [==============================] - 1s 215us/step - loss: 0.5286 - acc: 0.7340\n",
      "Epoch 27/100\n",
      "4872/4872 [==============================] - 1s 186us/step - loss: 0.5429 - acc: 0.7186\n",
      "Epoch 28/100\n",
      "4872/4872 [==============================] - 1s 186us/step - loss: 0.5278 - acc: 0.7332\n",
      "Epoch 29/100\n",
      "4872/4872 [==============================] - 1s 161us/step - loss: 0.5310 - acc: 0.7278\n",
      "Epoch 30/100\n",
      "4872/4872 [==============================] - 1s 158us/step - loss: 0.5273 - acc: 0.7270\n",
      "Epoch 31/100\n",
      "4872/4872 [==============================] - 1s 149us/step - loss: 0.5324 - acc: 0.7293\n",
      "Epoch 32/100\n",
      "4872/4872 [==============================] - 1s 155us/step - loss: 0.5276 - acc: 0.7346\n",
      "Epoch 33/100\n",
      "4872/4872 [==============================] - 1s 147us/step - loss: 0.5281 - acc: 0.7274\n",
      "Epoch 34/100\n",
      "4872/4872 [==============================] - 1s 147us/step - loss: 0.5242 - acc: 0.7330\n",
      "Epoch 35/100\n",
      "4872/4872 [==============================] - 1s 145us/step - loss: 0.5262 - acc: 0.7287\n",
      "Epoch 36/100\n",
      "4872/4872 [==============================] - 1s 154us/step - loss: 0.5301 - acc: 0.7194\n",
      "Epoch 37/100\n",
      "4872/4872 [==============================] - 1s 148us/step - loss: 0.5269 - acc: 0.7340\n",
      "Epoch 38/100\n",
      "4872/4872 [==============================] - 1s 155us/step - loss: 0.5237 - acc: 0.7340 0s - loss: 0.5319 - a\n",
      "Epoch 39/100\n",
      "4872/4872 [==============================] - 1s 155us/step - loss: 0.5249 - acc: 0.7305\n",
      "Epoch 40/100\n",
      "4872/4872 [==============================] - 1s 150us/step - loss: 0.5267 - acc: 0.7256\n",
      "Epoch 41/100\n",
      "4872/4872 [==============================] - 1s 160us/step - loss: 0.5255 - acc: 0.7323\n",
      "Epoch 42/100\n",
      "4872/4872 [==============================] - 1s 149us/step - loss: 0.5242 - acc: 0.7311\n",
      "Epoch 43/100\n",
      "4872/4872 [==============================] - 1s 151us/step - loss: 0.5225 - acc: 0.7336\n",
      "Epoch 44/100\n",
      "4872/4872 [==============================] - 1s 147us/step - loss: 0.5245 - acc: 0.7326\n",
      "Epoch 45/100\n",
      "4872/4872 [==============================] - 1s 166us/step - loss: 0.5254 - acc: 0.7313\n",
      "Epoch 46/100\n",
      "4872/4872 [==============================] - 1s 151us/step - loss: 0.5301 - acc: 0.7344\n",
      "Epoch 47/100\n",
      "4872/4872 [==============================] - 1s 173us/step - loss: 0.5171 - acc: 0.7358\n",
      "Epoch 48/100\n",
      "4872/4872 [==============================] - 1s 161us/step - loss: 0.5274 - acc: 0.7334\n",
      "Epoch 49/100\n",
      "4872/4872 [==============================] - 1s 155us/step - loss: 0.5180 - acc: 0.7354\n",
      "Epoch 50/100\n",
      "4872/4872 [==============================] - 1s 149us/step - loss: 0.5253 - acc: 0.7321\n",
      "Epoch 51/100\n",
      "4872/4872 [==============================] - 1s 149us/step - loss: 0.5216 - acc: 0.7406\n",
      "Epoch 52/100\n",
      "4872/4872 [==============================] - 1s 163us/step - loss: 0.5209 - acc: 0.7344\n",
      "Epoch 53/100\n",
      "4872/4872 [==============================] - 1s 186us/step - loss: 0.5175 - acc: 0.7369\n",
      "Epoch 54/100\n",
      "4872/4872 [==============================] - 1s 151us/step - loss: 0.5267 - acc: 0.7287\n",
      "Epoch 55/100\n",
      "4872/4872 [==============================] - 1s 156us/step - loss: 0.5195 - acc: 0.7418\n",
      "Epoch 56/100\n",
      "4872/4872 [==============================] - 1s 148us/step - loss: 0.5195 - acc: 0.7375\n",
      "Epoch 57/100\n",
      "4872/4872 [==============================] - 1s 158us/step - loss: 0.5231 - acc: 0.7278\n",
      "Epoch 58/100\n",
      "4872/4872 [==============================] - 1s 150us/step - loss: 0.5204 - acc: 0.7362\n",
      "Epoch 59/100\n",
      "4872/4872 [==============================] - 1s 154us/step - loss: 0.5245 - acc: 0.7371\n",
      "Epoch 60/100\n",
      "4872/4872 [==============================] - 1s 160us/step - loss: 0.5277 - acc: 0.7328\n",
      "Epoch 61/100\n",
      "4872/4872 [==============================] - 1s 155us/step - loss: 0.5180 - acc: 0.7387 0s - loss: 0.5211 - acc: 0.\n",
      "Epoch 62/100\n",
      "4872/4872 [==============================] - 1s 158us/step - loss: 0.5217 - acc: 0.7375\n",
      "Epoch 63/100\n",
      "4872/4872 [==============================] - 1s 164us/step - loss: 0.5138 - acc: 0.7373\n",
      "Epoch 64/100\n",
      "4872/4872 [==============================] - 1s 155us/step - loss: 0.5199 - acc: 0.7323\n",
      "Epoch 65/100\n",
      "4872/4872 [==============================] - 1s 162us/step - loss: 0.5200 - acc: 0.7330\n",
      "Epoch 66/100\n",
      "4872/4872 [==============================] - 1s 165us/step - loss: 0.5193 - acc: 0.7379\n",
      "Epoch 67/100\n",
      "4872/4872 [==============================] - 1s 163us/step - loss: 0.5197 - acc: 0.7395\n",
      "Epoch 68/100\n",
      "4872/4872 [==============================] - 1s 179us/step - loss: 0.5206 - acc: 0.7406\n",
      "Epoch 69/100\n",
      "4872/4872 [==============================] - 1s 177us/step - loss: 0.5157 - acc: 0.7436\n",
      "Epoch 70/100\n",
      "4872/4872 [==============================] - 1s 169us/step - loss: 0.5177 - acc: 0.7340\n",
      "Epoch 71/100\n",
      "4872/4872 [==============================] - 1s 155us/step - loss: 0.5220 - acc: 0.7367\n",
      "Epoch 72/100\n",
      "4872/4872 [==============================] - 1s 175us/step - loss: 0.5225 - acc: 0.7371\n",
      "Epoch 73/100\n",
      "4872/4872 [==============================] - 1s 161us/step - loss: 0.5204 - acc: 0.7381\n",
      "Epoch 74/100\n",
      "4872/4872 [==============================] - 1s 156us/step - loss: 0.5156 - acc: 0.7424\n",
      "Epoch 75/100\n",
      "4872/4872 [==============================] - 1s 168us/step - loss: 0.5122 - acc: 0.7443\n",
      "Epoch 76/100\n",
      "4872/4872 [==============================] - 1s 154us/step - loss: 0.5142 - acc: 0.7447\n",
      "Epoch 77/100\n",
      "4872/4872 [==============================] - 1s 169us/step - loss: 0.5136 - acc: 0.7408\n",
      "Epoch 78/100\n",
      "4872/4872 [==============================] - 1s 179us/step - loss: 0.5155 - acc: 0.7379\n",
      "Epoch 79/100\n",
      "4872/4872 [==============================] - 1s 164us/step - loss: 0.5195 - acc: 0.7344\n",
      "Epoch 80/100\n",
      "4872/4872 [==============================] - 1s 157us/step - loss: 0.5214 - acc: 0.7328\n",
      "Epoch 81/100\n"
     ]
    },
    {
     "name": "stdout",
     "output_type": "stream",
     "text": [
      "4872/4872 [==============================] - 1s 160us/step - loss: 0.5157 - acc: 0.7381\n",
      "Epoch 82/100\n",
      "4872/4872 [==============================] - 1s 151us/step - loss: 0.5170 - acc: 0.7389\n",
      "Epoch 83/100\n",
      "4872/4872 [==============================] - 1s 152us/step - loss: 0.5202 - acc: 0.7342\n",
      "Epoch 84/100\n",
      "4872/4872 [==============================] - 1s 149us/step - loss: 0.5143 - acc: 0.7416\n",
      "Epoch 85/100\n",
      "4872/4872 [==============================] - ETA: 0s - loss: 0.5143 - acc: 0.739 - 1s 156us/step - loss: 0.5174 - acc: 0.7393\n",
      "Epoch 86/100\n",
      "4872/4872 [==============================] - 1s 161us/step - loss: 0.5112 - acc: 0.7471\n",
      "Epoch 87/100\n",
      "4872/4872 [==============================] - 1s 171us/step - loss: 0.5142 - acc: 0.7428\n",
      "Epoch 88/100\n",
      "4872/4872 [==============================] - 1s 176us/step - loss: 0.5176 - acc: 0.7445\n",
      "Epoch 89/100\n",
      "4872/4872 [==============================] - 1s 162us/step - loss: 0.5158 - acc: 0.7385\n",
      "Epoch 90/100\n",
      "4872/4872 [==============================] - 1s 162us/step - loss: 0.5158 - acc: 0.7418\n",
      "Epoch 91/100\n",
      "4872/4872 [==============================] - 1s 142us/step - loss: 0.5167 - acc: 0.7424\n",
      "Epoch 92/100\n",
      "4872/4872 [==============================] - 1s 150us/step - loss: 0.5114 - acc: 0.7397\n",
      "Epoch 93/100\n",
      "4872/4872 [==============================] - 1s 158us/step - loss: 0.5138 - acc: 0.7443\n",
      "Epoch 94/100\n",
      "4872/4872 [==============================] - 1s 166us/step - loss: 0.5096 - acc: 0.7412\n",
      "Epoch 95/100\n",
      "4872/4872 [==============================] - 1s 151us/step - loss: 0.5164 - acc: 0.7424\n",
      "Epoch 96/100\n",
      "4872/4872 [==============================] - 1s 147us/step - loss: 0.5180 - acc: 0.7371\n",
      "Epoch 97/100\n",
      "4872/4872 [==============================] - 1s 155us/step - loss: 0.5240 - acc: 0.7342\n",
      "Epoch 98/100\n",
      "4872/4872 [==============================] - 1s 166us/step - loss: 0.5175 - acc: 0.7358\n",
      "Epoch 99/100\n",
      "4872/4872 [==============================] - 1s 159us/step - loss: 0.5120 - acc: 0.7473\n",
      "Epoch 100/100\n",
      "4872/4872 [==============================] - 1s 169us/step - loss: 0.5102 - acc: 0.7424\n",
      "4872/4872 [==============================] - 0s 95us/step\n",
      "1625/1625 [==============================] - 0s 85us/step\n",
      "4872/4872 [==============================] - 0s 54us/step\n",
      "sklearn decision tree, training error: 0.245074\n",
      "1625/1625 [==============================] - 0s 59us/step\n",
      "sklearn decision tree, testing error: 0.250462\n",
      "ann Training Accuracy: 0.754926\n",
      "ann Test Accuracy: 0.749538\n",
      "Detailed Analysis Testing Results ...\n",
      "1625/1625 [==============================] - 0s 48us/step\n",
      "             precision    recall  f1-score   support\n",
      "\n",
      "Categoria 1       0.67      0.67      0.67       610\n",
      "Categoria 2       0.80      0.80      0.80      1015\n",
      "\n",
      "avg / total       0.75      0.75      0.75      1625\n",
      "\n"
     ]
    }
   ],
   "source": [
    "from keras.wrappers.scikit_learn import KerasClassifier\n",
    "# Function to create model, required for KerasClassifier\n",
    "def create_model(optimizer='adam'):\n",
    "    # create model\n",
    "    model = Sequential()\n",
    "    model.add(Dense(20, input_dim=X_train.shape[1], activation='relu'))\n",
    "    model.add(Dense(1, activation='sigmoid'))\n",
    "    # Compile model\n",
    "    model.compile(loss='binary_crossentropy', optimizer=optimizer, metrics=['accuracy'])\n",
    "    return model\n",
    "\n",
    "model = KerasClassifier(build_fn=create_model, epochs=100, batch_size=10, verbose=1)\n",
    "model.fit(X_train,y_train)\n",
    "score_the_model(model,X_train,y_train,X_test,y_test,'ann',['Categoria 1','Categoria 2'])\n",
    "\n",
    "#optimizer = ['SGD', 'Adam', 'Nadam']\n",
    "#param_grid = dict(optimizer=optimizer)\n",
    "#grid = GridSearchCV(estimator=model, param_grid=param_grid, n_jobs=-1,scoring='f1')\n",
    "#grid_result = grid.fit(X_train, y_train)\n",
    "\n",
    "#print(\"Best: %f using %s\" % (grid_result.best_score_, grid_result.best_params_))\n",
    "#means = grid_result.cv_results_['mean_test_score']\n",
    "#stds = grid_result.cv_results_['std_test_score']\n",
    "#params = grid_result.cv_results_['params']\n",
    "#for mean, stdev, param in zip(means, stds, params):\n",
    "#    print(\"%f (%f) with: %r\" % (mean, stdev, param))"
   ]
  },
  {
   "cell_type": "code",
   "execution_count": 12,
   "metadata": {},
   "outputs": [
    {
     "name": "stdout",
     "output_type": "stream",
     "text": [
      "LR: Train: 0.803795 (0.016068) Test: 0.808988 (0.022108)\n",
      "LDA: Train: 0.803322 (0.014222) Test: 0.807310 (0.030325)\n",
      "KNN: Train: 0.760608 (0.017211) Test: 0.729249 (0.036091)\n",
      "CART: Train: 0.814469 (0.019188) Test: 0.767130 (0.034697)\n",
      "NB: Train: 0.749484 (0.027053) Test: 0.767209 (0.041771)\n",
      "QDA: Train: 0.800425 (0.014208) Test: 0.793371 (0.034083)\n",
      "RandomForest: Train: 0.840541 (0.018027) Test: 0.806168 (0.023156)\n"
     ]
    }
   ],
   "source": [
    "from sklearn import model_selection\n",
    "from sklearn.linear_model import LogisticRegression\n",
    "from sklearn.tree import DecisionTreeClassifier\n",
    "from sklearn.neighbors import KNeighborsClassifier\n",
    "from sklearn.discriminant_analysis import LinearDiscriminantAnalysis\n",
    "from sklearn.discriminant_analysis import QuadraticDiscriminantAnalysis\n",
    "from sklearn.naive_bayes import GaussianNB\n",
    "from sklearn.model_selection import KFold, cross_val_score\n",
    "\n",
    "\n",
    "models = []\n",
    "models.append(('LR', LogisticRegression()))\n",
    "models.append(('LDA', LinearDiscriminantAnalysis()))\n",
    "models.append(('KNN', KNeighborsClassifier()))\n",
    "models.append(('CART', DecisionTreeClassifier()))\n",
    "models.append(('NB', GaussianNB()))\n",
    "models.append(('QDA', QuadraticDiscriminantAnalysis()))\n",
    "models.append(('RandomForest', RandomForestClassifier()))\n",
    "results = []\n",
    "names = []\n",
    "scoring = 'f1'\n",
    "for name, model in models:\n",
    "    kfold = model_selection.KFold(n_splits=10, random_state=44)\n",
    "    cv_results = model_selection.cross_val_score(model, X_train, y_train, cv=kfold, scoring=scoring)\n",
    "    cv_results2 = model_selection.cross_val_score(model, X_test, y_test, cv=kfold, scoring=scoring)\n",
    "    results.append(cv_results)\n",
    "    results.append(cv_results2)\n",
    "    names.append(name)\n",
    "    msg = \"%s: Train: %f (%f) Test: %f (%f)\" % (name, cv_results.mean(), cv_results.std(), cv_results2.mean(), cv_results2.std())\n",
    "    print(msg)"
   ]
  },
  {
   "cell_type": "markdown",
   "metadata": {},
   "source": [
    "Usando la metrica f1 sobre los clasificadores [LR,LDA,QDA,KNN,CART,NB,RandomForest,ANN] destacan LR,LDA,CART por obtener un f1 score del 80% , caso diferente es ANN que se logra subir de 67 a 75 cambiando el optimizador de SGD a adam y en la categoria2 también logra 0.80."
   ]
  },
  {
   "cell_type": "markdown",
   "metadata": {},
   "source": [
    "#### (g)  Defina  un  criterio  para  estimar  la  importancia  de  los  distintos  atributos  en  el  ensamblado  de $Random Forest$, implementelo  sobre  alguno  de  los  ensambladores  entrenados  en  d),  haga  un  ranking  de importancia de atributos ¿Es posible implementar este criterio sobre una técnica de boost como lo es $AdaBoost$?\n"
   ]
  },
  {
   "cell_type": "code",
   "execution_count": 16,
   "metadata": {},
   "outputs": [
    {
     "name": "stdout",
     "output_type": "stream",
     "text": [
      "Mejor: 0.794335 usando {'criterion': 'gini', 'max_depth': 17} \n"
     ]
    }
   ],
   "source": [
    "criterion =['gini','entropy']\n",
    "\n",
    "N_t = range(1,50)\n",
    "model = RandomForestClassifier(random_state=0)\n",
    "param_grid = dict(criterion = criterion, max_depth=N_t)\n",
    "grid = GridSearchCV(estimator = model,param_grid=param_grid,n_jobs=-1)\n",
    "grid_result = grid.fit(X_train,y_train)\n",
    "\n",
    "print('Mejor: %f usando %s '%(grid_result.best_score_,grid_result.best_params_))\n",
    "means = grid_result.cv_results_['mean_test_score']\n",
    "stds = grid_result.cv_results_['std_test_score']\n",
    "params = grid_result.cv_results_['params']"
   ]
  },
  {
   "cell_type": "code",
   "execution_count": 17,
   "metadata": {},
   "outputs": [
    {
     "data": {
      "text/plain": [
       "RandomForestClassifier(bootstrap=True, class_weight=None, criterion='gini',\n",
       "            max_depth=17, max_features='auto', max_leaf_nodes=None,\n",
       "            min_impurity_decrease=0.0, min_impurity_split=None,\n",
       "            min_samples_leaf=1, min_samples_split=2,\n",
       "            min_weight_fraction_leaf=0.0, n_estimators=10, n_jobs=1,\n",
       "            oob_score=False, random_state=0, verbose=0, warm_start=False)"
      ]
     },
     "execution_count": 17,
     "metadata": {},
     "output_type": "execute_result"
    }
   ],
   "source": [
    "forest = RandomForestClassifier(random_state=0,max_depth=17)\n",
    "forest.fit(X_train,y_train)"
   ]
  },
  {
   "cell_type": "code",
   "execution_count": 19,
   "metadata": {},
   "outputs": [
    {
     "name": "stdout",
     "output_type": "stream",
     "text": [
      "Feature ranking:\n",
      "1. feature 10 (0.133502)\n",
      "2. feature 7 (0.124817)\n",
      "3. feature 1 (0.113340)\n",
      "4. feature 5 (0.087773)\n",
      "5. feature 4 (0.085223)\n",
      "6. feature 6 (0.082620)\n",
      "7. feature 2 (0.078356)\n",
      "8. feature 9 (0.077319)\n",
      "9. feature 8 (0.076466)\n",
      "10. feature 3 (0.068036)\n",
      "11. feature 0 (0.065810)\n",
      "12. feature 11 (0.006739)\n"
     ]
    },
    {
     "data": {
      "image/png": "[encoded data removed]",
      "text/plain": [
       "<matplotlib.figure.Figure at 0x21ecbba7b70>"
      ]
     },
     "metadata": {},
     "output_type": "display_data"
    },
    {
     "data": {
      "text/html": [
       "<div>\n",
       "<style scoped>\n",
       "    .dataframe tbody tr th:only-of-type {\n",
       "        vertical-align: middle;\n",
       "    }\n",
       "\n",
       "    .dataframe tbody tr th {\n",
       "        vertical-align: top;\n",
       "    }\n",
       "\n",
       "    .dataframe thead th {\n",
       "        text-align: right;\n",
       "    }\n",
       "</style>\n",
       "<table border=\"1\" class=\"dataframe\">\n",
       "  <thead>\n",
       "    <tr style=\"text-align: right;\">\n",
       "      <th></th>\n",
       "      <th>fixed acidity</th>\n",
       "      <th>volatile acidity</th>\n",
       "      <th>citric acid</th>\n",
       "      <th>residual sugar</th>\n",
       "      <th>chlorides</th>\n",
       "      <th>free sulfur dioxide</th>\n",
       "      <th>total sulfur dioxide</th>\n",
       "      <th>density</th>\n",
       "      <th>pH</th>\n",
       "      <th>sulphates</th>\n",
       "      <th>alcohol</th>\n",
       "      <th>Tipo</th>\n",
       "    </tr>\n",
       "  </thead>\n",
       "  <tbody>\n",
       "    <tr>\n",
       "      <th>0</th>\n",
       "      <td>7.4</td>\n",
       "      <td>0.70</td>\n",
       "      <td>0.00</td>\n",
       "      <td>1.9</td>\n",
       "      <td>0.076</td>\n",
       "      <td>11.0</td>\n",
       "      <td>34.0</td>\n",
       "      <td>0.9978</td>\n",
       "      <td>3.51</td>\n",
       "      <td>0.56</td>\n",
       "      <td>9.4</td>\n",
       "      <td>1.0</td>\n",
       "    </tr>\n",
       "    <tr>\n",
       "      <th>1</th>\n",
       "      <td>7.8</td>\n",
       "      <td>0.88</td>\n",
       "      <td>0.00</td>\n",
       "      <td>2.6</td>\n",
       "      <td>0.098</td>\n",
       "      <td>25.0</td>\n",
       "      <td>67.0</td>\n",
       "      <td>0.9968</td>\n",
       "      <td>3.20</td>\n",
       "      <td>0.68</td>\n",
       "      <td>9.8</td>\n",
       "      <td>1.0</td>\n",
       "    </tr>\n",
       "    <tr>\n",
       "      <th>2</th>\n",
       "      <td>7.8</td>\n",
       "      <td>0.76</td>\n",
       "      <td>0.04</td>\n",
       "      <td>2.3</td>\n",
       "      <td>0.092</td>\n",
       "      <td>15.0</td>\n",
       "      <td>54.0</td>\n",
       "      <td>0.9970</td>\n",
       "      <td>3.26</td>\n",
       "      <td>0.65</td>\n",
       "      <td>9.8</td>\n",
       "      <td>1.0</td>\n",
       "    </tr>\n",
       "    <tr>\n",
       "      <th>3</th>\n",
       "      <td>11.2</td>\n",
       "      <td>0.28</td>\n",
       "      <td>0.56</td>\n",
       "      <td>1.9</td>\n",
       "      <td>0.075</td>\n",
       "      <td>17.0</td>\n",
       "      <td>60.0</td>\n",
       "      <td>0.9980</td>\n",
       "      <td>3.16</td>\n",
       "      <td>0.58</td>\n",
       "      <td>9.8</td>\n",
       "      <td>1.0</td>\n",
       "    </tr>\n",
       "    <tr>\n",
       "      <th>4</th>\n",
       "      <td>7.4</td>\n",
       "      <td>0.70</td>\n",
       "      <td>0.00</td>\n",
       "      <td>1.9</td>\n",
       "      <td>0.076</td>\n",
       "      <td>11.0</td>\n",
       "      <td>34.0</td>\n",
       "      <td>0.9978</td>\n",
       "      <td>3.51</td>\n",
       "      <td>0.56</td>\n",
       "      <td>9.4</td>\n",
       "      <td>1.0</td>\n",
       "    </tr>\n",
       "  </tbody>\n",
       "</table>\n",
       "</div>"
      ],
      "text/plain": [
       "   fixed acidity  volatile acidity  citric acid  residual sugar  chlorides  \\\n",
       "0            7.4              0.70         0.00             1.9      0.076   \n",
       "1            7.8              0.88         0.00             2.6      0.098   \n",
       "2            7.8              0.76         0.04             2.3      0.092   \n",
       "3           11.2              0.28         0.56             1.9      0.075   \n",
       "4            7.4              0.70         0.00             1.9      0.076   \n",
       "\n",
       "   free sulfur dioxide  total sulfur dioxide  density    pH  sulphates  \\\n",
       "0                 11.0                  34.0   0.9978  3.51       0.56   \n",
       "1                 25.0                  67.0   0.9968  3.20       0.68   \n",
       "2                 15.0                  54.0   0.9970  3.26       0.65   \n",
       "3                 17.0                  60.0   0.9980  3.16       0.58   \n",
       "4                 11.0                  34.0   0.9978  3.51       0.56   \n",
       "\n",
       "   alcohol  Tipo  \n",
       "0      9.4   1.0  \n",
       "1      9.8   1.0  \n",
       "2      9.8   1.0  \n",
       "3      9.8   1.0  \n",
       "4      9.4   1.0  "
      ]
     },
     "execution_count": 19,
     "metadata": {},
     "output_type": "execute_result"
    }
   ],
   "source": [
    "importances = forest.feature_importances_\n",
    "std = np.std([tree.feature_importances_ for tree in forest.estimators_],\n",
    "             axis=0)\n",
    "indices = np.argsort(importances)[::-1]\n",
    "\n",
    "# Print the feature ranking\n",
    "print(\"Feature ranking:\")\n",
    "\n",
    "for f in range(X.shape[1]):\n",
    "    print(\"%d. feature %d (%f)\" % (f + 1, indices[f], importances[indices[f]]))\n",
    "\n",
    "# Plot the feature importances of the forest\n",
    "plt.figure()\n",
    "plt.title(\"Feature importances\")\n",
    "plt.bar(range(X.shape[1]), importances[indices],\n",
    "       color=\"r\", yerr=std[indices], align=\"center\")\n",
    "plt.xticks(range(X.shape[1]), indices)\n",
    "plt.xlim([-1, X.shape[1]])\n",
    "plt.show()\n",
    "\n",
    "X.head()"
   ]
  },
  {
   "cell_type": "markdown",
   "metadata": {},
   "source": [
    "*¿Es posible implementar este criterio sobre una técnica de boost como lo es AdaBoost?* \n",
    "Segun la implementación de sklearn adaboost si posee al igual que random forest la opción de feature_importances_,\n",
    "pero cuando algoritmo base es un arbol de decision  $$-$$\"The feature_importances_ is an attribute available to sklearn's adaboost algorithm when the base classifier is a decision tree.\""
   ]
  },
  {
   "cell_type": "code",
   "execution_count": null,
   "metadata": {
    "collapsed": true
   },
   "outputs": [],
   "source": []
  }
 ],
 "metadata": {
  "kernelspec": {
   "display_name": "Python 3",
   "language": "python",
   "name": "python3"
  },
  "language_info": {
   "codemirror_mode": {
    "name": "ipython",
    "version": 3
   },
   "file_extension": ".py",
   "mimetype": "text/x-python",
   "name": "python",
   "nbconvert_exporter": "python",
   "pygments_lexer": "ipython3",
   "version": "3.6.3"
  }
 },
 "nbformat": 4,
 "nbformat_minor": 2
}
