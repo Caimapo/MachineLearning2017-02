{
 "cells": [
  {
   "cell_type": "markdown",
   "metadata": {},
   "source": [
    "# Tarea 1 Métodos Lineales para regresión\n",
    "---\n",
    "## Integrantes: \n",
    "- *José Eduardo Caimapo* -  email@sansano.usm.cl - 201xxxxxx-x\n",
    "- *Rodrigo Sepúlveda* - rodrigo.sepulveda.12@sansano.usm.cl - 201204766-8"
   ]
  },
  {
   "cell_type": "markdown",
   "metadata": {},
   "source": [
    "# 1. Regresión lineal ordinaria\n",
    "En la siguiente sección se centra en estudiar las regresiones lineales ordinarias, para esto se utilizará el conjunto de datos “House Sales in King County, USA”, presentado en la plataforma Kaggle, el cual se compone de 21613 registros de casas vendidas en el condado de King, incluyendo Seattle, entre mayo del 2014 y mayo del 2015, el conjunto de datos incluye información de las casas y su precio. El objetivo de estudiar este conjunto de datos es predecir el valor de una vivienda de acuerdo con sus características."
   ]
  },
  {
   "cell_type": "code",
   "execution_count": 1,
   "metadata": {
    "collapsed": true
   },
   "outputs": [],
   "source": [
    "# Imports \n",
    "import pandas               as pd\n",
    "import matplotlib.pyplot    as plt\n",
    "import numpy                as np\n",
    "import sklearn.linear_model as lm\n",
    "\n",
    "from sklearn.metrics       import mean_squared_error, r2_score\n",
    "from sklearn.preprocessing import StandardScaler"
   ]
  },
  {
   "cell_type": "markdown",
   "metadata": {},
   "source": [
    "## a) Construya un dataframe con los datos a analizar descargándolos desde la plataforma como se indicó\n",
    "Se procede a construir un dataframe con los elementos del conjunto de datos, \tademás se eliminan las columnas que no aportan información relevante al problema, entre estas el identificador de cada registro, la fecha en que vendió la casa,  el zipcode. Además, se muestran los primeros 5 registros del conjunto de datos. "
   ]
  },
  {
   "cell_type": "code",
   "execution_count": 2,
   "metadata": {},
   "outputs": [
    {
     "data": {
      "text/html": [
       "<div>\n",
       "<style>\n",
       "    .dataframe thead tr:only-child th {\n",
       "        text-align: right;\n",
       "    }\n",
       "\n",
       "    .dataframe thead th {\n",
       "        text-align: left;\n",
       "    }\n",
       "\n",
       "    .dataframe tbody tr th {\n",
       "        vertical-align: top;\n",
       "    }\n",
       "</style>\n",
       "<table border=\"1\" class=\"dataframe\">\n",
       "  <thead>\n",
       "    <tr style=\"text-align: right;\">\n",
       "      <th></th>\n",
       "      <th>price</th>\n",
       "      <th>bedrooms</th>\n",
       "      <th>bathrooms</th>\n",
       "      <th>sqft_living</th>\n",
       "      <th>sqft_lot</th>\n",
       "      <th>floors</th>\n",
       "      <th>waterfront</th>\n",
       "      <th>view</th>\n",
       "      <th>condition</th>\n",
       "      <th>grade</th>\n",
       "      <th>sqft_above</th>\n",
       "      <th>sqft_basement</th>\n",
       "      <th>yr_built</th>\n",
       "      <th>yr_renovated</th>\n",
       "      <th>lat</th>\n",
       "      <th>long</th>\n",
       "      <th>sqft_living15</th>\n",
       "      <th>sqft_lot15</th>\n",
       "    </tr>\n",
       "  </thead>\n",
       "  <tbody>\n",
       "    <tr>\n",
       "      <th>0</th>\n",
       "      <td>221900.0</td>\n",
       "      <td>3</td>\n",
       "      <td>1.00</td>\n",
       "      <td>1180</td>\n",
       "      <td>5650</td>\n",
       "      <td>1.0</td>\n",
       "      <td>0</td>\n",
       "      <td>0</td>\n",
       "      <td>3</td>\n",
       "      <td>7</td>\n",
       "      <td>1180</td>\n",
       "      <td>0</td>\n",
       "      <td>1955</td>\n",
       "      <td>0</td>\n",
       "      <td>47.5112</td>\n",
       "      <td>-122.257</td>\n",
       "      <td>1340</td>\n",
       "      <td>5650</td>\n",
       "    </tr>\n",
       "    <tr>\n",
       "      <th>1</th>\n",
       "      <td>538000.0</td>\n",
       "      <td>3</td>\n",
       "      <td>2.25</td>\n",
       "      <td>2570</td>\n",
       "      <td>7242</td>\n",
       "      <td>2.0</td>\n",
       "      <td>0</td>\n",
       "      <td>0</td>\n",
       "      <td>3</td>\n",
       "      <td>7</td>\n",
       "      <td>2170</td>\n",
       "      <td>400</td>\n",
       "      <td>1951</td>\n",
       "      <td>1991</td>\n",
       "      <td>47.7210</td>\n",
       "      <td>-122.319</td>\n",
       "      <td>1690</td>\n",
       "      <td>7639</td>\n",
       "    </tr>\n",
       "    <tr>\n",
       "      <th>2</th>\n",
       "      <td>180000.0</td>\n",
       "      <td>2</td>\n",
       "      <td>1.00</td>\n",
       "      <td>770</td>\n",
       "      <td>10000</td>\n",
       "      <td>1.0</td>\n",
       "      <td>0</td>\n",
       "      <td>0</td>\n",
       "      <td>3</td>\n",
       "      <td>6</td>\n",
       "      <td>770</td>\n",
       "      <td>0</td>\n",
       "      <td>1933</td>\n",
       "      <td>0</td>\n",
       "      <td>47.7379</td>\n",
       "      <td>-122.233</td>\n",
       "      <td>2720</td>\n",
       "      <td>8062</td>\n",
       "    </tr>\n",
       "    <tr>\n",
       "      <th>3</th>\n",
       "      <td>604000.0</td>\n",
       "      <td>4</td>\n",
       "      <td>3.00</td>\n",
       "      <td>1960</td>\n",
       "      <td>5000</td>\n",
       "      <td>1.0</td>\n",
       "      <td>0</td>\n",
       "      <td>0</td>\n",
       "      <td>5</td>\n",
       "      <td>7</td>\n",
       "      <td>1050</td>\n",
       "      <td>910</td>\n",
       "      <td>1965</td>\n",
       "      <td>0</td>\n",
       "      <td>47.5208</td>\n",
       "      <td>-122.393</td>\n",
       "      <td>1360</td>\n",
       "      <td>5000</td>\n",
       "    </tr>\n",
       "    <tr>\n",
       "      <th>4</th>\n",
       "      <td>510000.0</td>\n",
       "      <td>3</td>\n",
       "      <td>2.00</td>\n",
       "      <td>1680</td>\n",
       "      <td>8080</td>\n",
       "      <td>1.0</td>\n",
       "      <td>0</td>\n",
       "      <td>0</td>\n",
       "      <td>3</td>\n",
       "      <td>8</td>\n",
       "      <td>1680</td>\n",
       "      <td>0</td>\n",
       "      <td>1987</td>\n",
       "      <td>0</td>\n",
       "      <td>47.6168</td>\n",
       "      <td>-122.045</td>\n",
       "      <td>1800</td>\n",
       "      <td>7503</td>\n",
       "    </tr>\n",
       "  </tbody>\n",
       "</table>\n",
       "</div>"
      ],
      "text/plain": [
       "      price  bedrooms  bathrooms  sqft_living  sqft_lot  floors  waterfront  \\\n",
       "0  221900.0         3       1.00         1180      5650     1.0           0   \n",
       "1  538000.0         3       2.25         2570      7242     2.0           0   \n",
       "2  180000.0         2       1.00          770     10000     1.0           0   \n",
       "3  604000.0         4       3.00         1960      5000     1.0           0   \n",
       "4  510000.0         3       2.00         1680      8080     1.0           0   \n",
       "\n",
       "   view  condition  grade  sqft_above  sqft_basement  yr_built  yr_renovated  \\\n",
       "0     0          3      7        1180              0      1955             0   \n",
       "1     0          3      7        2170            400      1951          1991   \n",
       "2     0          3      6         770              0      1933             0   \n",
       "3     0          5      7        1050            910      1965             0   \n",
       "4     0          3      8        1680              0      1987             0   \n",
       "\n",
       "       lat     long  sqft_living15  sqft_lot15  \n",
       "0  47.5112 -122.257           1340        5650  \n",
       "1  47.7210 -122.319           1690        7639  \n",
       "2  47.7379 -122.233           2720        8062  \n",
       "3  47.5208 -122.393           1360        5000  \n",
       "4  47.6168 -122.045           1800        7503  "
      ]
     },
     "execution_count": 2,
     "metadata": {},
     "output_type": "execute_result"
    }
   ],
   "source": [
    "df = pd.read_csv(\"kc_house_data.csv\")\n",
    "df.drop(['id', 'date', 'zipcode',], axis=1, inplace=True)\n",
    "df.head()"
   ]
  },
  {
   "cell_type": "markdown",
   "metadata": {},
   "source": [
    "## b) Describa brevemente el dataset a utilizar\n",
    "A continuación, se procede a describir la información del conjunto de datos:"
   ]
  },
  {
   "cell_type": "code",
   "execution_count": 3,
   "metadata": {},
   "outputs": [
    {
     "data": {
      "text/plain": [
       "(21613, 18)"
      ]
     },
     "execution_count": 3,
     "metadata": {},
     "output_type": "execute_result"
    }
   ],
   "source": [
    "df.shape"
   ]
  },
  {
   "cell_type": "markdown",
   "metadata": {},
   "source": [
    "El conjunto de datos se compone de 21613 filas las cuales corresponden a los registros de la casas vendidas y 18 columnas las cuales corresponden a los distintos atributos o cualidades presentes en el conjunto de datos incluyéndose el precio de cada casa, siendo este la variable a predecir. "
   ]
  },
  {
   "cell_type": "code",
   "execution_count": 4,
   "metadata": {},
   "outputs": [
    {
     "name": "stdout",
     "output_type": "stream",
     "text": [
      "<class 'pandas.core.frame.DataFrame'>\n",
      "RangeIndex: 21613 entries, 0 to 21612\n",
      "Data columns (total 18 columns):\n",
      "price            21613 non-null float64\n",
      "bedrooms         21613 non-null int64\n",
      "bathrooms        21613 non-null float64\n",
      "sqft_living      21613 non-null int64\n",
      "sqft_lot         21613 non-null int64\n",
      "floors           21613 non-null float64\n",
      "waterfront       21613 non-null int64\n",
      "view             21613 non-null int64\n",
      "condition        21613 non-null int64\n",
      "grade            21613 non-null int64\n",
      "sqft_above       21613 non-null int64\n",
      "sqft_basement    21613 non-null int64\n",
      "yr_built         21613 non-null int64\n",
      "yr_renovated     21613 non-null int64\n",
      "lat              21613 non-null float64\n",
      "long             21613 non-null float64\n",
      "sqft_living15    21613 non-null int64\n",
      "sqft_lot15       21613 non-null int64\n",
      "dtypes: float64(5), int64(13)\n",
      "memory usage: 3.0 MB\n"
     ]
    }
   ],
   "source": [
    "df.info()"
   ]
  },
  {
   "cell_type": "markdown",
   "metadata": {},
   "source": [
    "De las columnas del conjunto de datos es posible apreciar que ninguna presenta valores faltantes, y cada columna corresponde a:\n",
    "- price: Precio de la casa, variable a predecir. \n",
    "- bedrooms: Número de habitaciones por casa.\n",
    "- bathrooms: Número de baños por cada habitación.\n",
    "- sqft_living: Pies cuadrados de la casa.\n",
    "- sqft_lot: Pies cuadrados del terreno.\n",
    "- floors: Cantidad de pisos en la casa.\n",
    "- waterfront: Si la casa tiene vista a la costa.\n",
    "- view: Si fue vista.\n",
    "- condition: Qué tan buena es la condición (en general)\n",
    "- grade: Grado general dado a la unidad de vivienda, basado en el sistema de clasificación del condado de King\n",
    "- sqft_above: Metros cuadrados de la casa aparte del sótano.\n",
    "- sqft_basement: Metros cuadrados del sótano\n",
    "- yr_built: Año de construcción. \n",
    "- yr_renovated: Año de renovación de la casa.\n",
    "- lat: Coordenada de Latitud.\n",
    "- long: Coordenada de Longitud.\n",
    "- sqft_living15: Área de la sala de estar en el 2015.\n",
    "- sqft_lot15: Área del lotSize en el 2015.\n",
    "\n",
    "\n"
   ]
  },
  {
   "cell_type": "code",
   "execution_count": 5,
   "metadata": {},
   "outputs": [
    {
     "data": {
      "text/html": [
       "<div>\n",
       "<style>\n",
       "    .dataframe thead tr:only-child th {\n",
       "        text-align: right;\n",
       "    }\n",
       "\n",
       "    .dataframe thead th {\n",
       "        text-align: left;\n",
       "    }\n",
       "\n",
       "    .dataframe tbody tr th {\n",
       "        vertical-align: top;\n",
       "    }\n",
       "</style>\n",
       "<table border=\"1\" class=\"dataframe\">\n",
       "  <thead>\n",
       "    <tr style=\"text-align: right;\">\n",
       "      <th></th>\n",
       "      <th>price</th>\n",
       "      <th>bedrooms</th>\n",
       "      <th>bathrooms</th>\n",
       "      <th>sqft_living</th>\n",
       "      <th>sqft_lot</th>\n",
       "      <th>floors</th>\n",
       "      <th>waterfront</th>\n",
       "      <th>view</th>\n",
       "      <th>condition</th>\n",
       "      <th>grade</th>\n",
       "      <th>sqft_above</th>\n",
       "      <th>sqft_basement</th>\n",
       "      <th>yr_built</th>\n",
       "      <th>yr_renovated</th>\n",
       "      <th>lat</th>\n",
       "      <th>long</th>\n",
       "      <th>sqft_living15</th>\n",
       "      <th>sqft_lot15</th>\n",
       "    </tr>\n",
       "  </thead>\n",
       "  <tbody>\n",
       "    <tr>\n",
       "      <th>count</th>\n",
       "      <td>2.161300e+04</td>\n",
       "      <td>21613.000000</td>\n",
       "      <td>21613.000000</td>\n",
       "      <td>21613.000000</td>\n",
       "      <td>2.161300e+04</td>\n",
       "      <td>21613.000000</td>\n",
       "      <td>21613.000000</td>\n",
       "      <td>21613.000000</td>\n",
       "      <td>21613.000000</td>\n",
       "      <td>21613.000000</td>\n",
       "      <td>21613.000000</td>\n",
       "      <td>21613.000000</td>\n",
       "      <td>21613.000000</td>\n",
       "      <td>21613.000000</td>\n",
       "      <td>21613.000000</td>\n",
       "      <td>21613.000000</td>\n",
       "      <td>21613.000000</td>\n",
       "      <td>21613.000000</td>\n",
       "    </tr>\n",
       "    <tr>\n",
       "      <th>mean</th>\n",
       "      <td>5.400881e+05</td>\n",
       "      <td>3.370842</td>\n",
       "      <td>2.114757</td>\n",
       "      <td>2079.899736</td>\n",
       "      <td>1.510697e+04</td>\n",
       "      <td>1.494309</td>\n",
       "      <td>0.007542</td>\n",
       "      <td>0.234303</td>\n",
       "      <td>3.409430</td>\n",
       "      <td>7.656873</td>\n",
       "      <td>1788.390691</td>\n",
       "      <td>291.509045</td>\n",
       "      <td>1971.005136</td>\n",
       "      <td>84.402258</td>\n",
       "      <td>47.560053</td>\n",
       "      <td>-122.213896</td>\n",
       "      <td>1986.552492</td>\n",
       "      <td>12768.455652</td>\n",
       "    </tr>\n",
       "    <tr>\n",
       "      <th>std</th>\n",
       "      <td>3.671272e+05</td>\n",
       "      <td>0.930062</td>\n",
       "      <td>0.770163</td>\n",
       "      <td>918.440897</td>\n",
       "      <td>4.142051e+04</td>\n",
       "      <td>0.539989</td>\n",
       "      <td>0.086517</td>\n",
       "      <td>0.766318</td>\n",
       "      <td>0.650743</td>\n",
       "      <td>1.175459</td>\n",
       "      <td>828.090978</td>\n",
       "      <td>442.575043</td>\n",
       "      <td>29.373411</td>\n",
       "      <td>401.679240</td>\n",
       "      <td>0.138564</td>\n",
       "      <td>0.140828</td>\n",
       "      <td>685.391304</td>\n",
       "      <td>27304.179631</td>\n",
       "    </tr>\n",
       "    <tr>\n",
       "      <th>min</th>\n",
       "      <td>7.500000e+04</td>\n",
       "      <td>0.000000</td>\n",
       "      <td>0.000000</td>\n",
       "      <td>290.000000</td>\n",
       "      <td>5.200000e+02</td>\n",
       "      <td>1.000000</td>\n",
       "      <td>0.000000</td>\n",
       "      <td>0.000000</td>\n",
       "      <td>1.000000</td>\n",
       "      <td>1.000000</td>\n",
       "      <td>290.000000</td>\n",
       "      <td>0.000000</td>\n",
       "      <td>1900.000000</td>\n",
       "      <td>0.000000</td>\n",
       "      <td>47.155900</td>\n",
       "      <td>-122.519000</td>\n",
       "      <td>399.000000</td>\n",
       "      <td>651.000000</td>\n",
       "    </tr>\n",
       "    <tr>\n",
       "      <th>25%</th>\n",
       "      <td>3.219500e+05</td>\n",
       "      <td>3.000000</td>\n",
       "      <td>1.750000</td>\n",
       "      <td>1427.000000</td>\n",
       "      <td>5.040000e+03</td>\n",
       "      <td>1.000000</td>\n",
       "      <td>0.000000</td>\n",
       "      <td>0.000000</td>\n",
       "      <td>3.000000</td>\n",
       "      <td>7.000000</td>\n",
       "      <td>1190.000000</td>\n",
       "      <td>0.000000</td>\n",
       "      <td>1951.000000</td>\n",
       "      <td>0.000000</td>\n",
       "      <td>47.471000</td>\n",
       "      <td>-122.328000</td>\n",
       "      <td>1490.000000</td>\n",
       "      <td>5100.000000</td>\n",
       "    </tr>\n",
       "    <tr>\n",
       "      <th>50%</th>\n",
       "      <td>4.500000e+05</td>\n",
       "      <td>3.000000</td>\n",
       "      <td>2.250000</td>\n",
       "      <td>1910.000000</td>\n",
       "      <td>7.618000e+03</td>\n",
       "      <td>1.500000</td>\n",
       "      <td>0.000000</td>\n",
       "      <td>0.000000</td>\n",
       "      <td>3.000000</td>\n",
       "      <td>7.000000</td>\n",
       "      <td>1560.000000</td>\n",
       "      <td>0.000000</td>\n",
       "      <td>1975.000000</td>\n",
       "      <td>0.000000</td>\n",
       "      <td>47.571800</td>\n",
       "      <td>-122.230000</td>\n",
       "      <td>1840.000000</td>\n",
       "      <td>7620.000000</td>\n",
       "    </tr>\n",
       "    <tr>\n",
       "      <th>75%</th>\n",
       "      <td>6.450000e+05</td>\n",
       "      <td>4.000000</td>\n",
       "      <td>2.500000</td>\n",
       "      <td>2550.000000</td>\n",
       "      <td>1.068800e+04</td>\n",
       "      <td>2.000000</td>\n",
       "      <td>0.000000</td>\n",
       "      <td>0.000000</td>\n",
       "      <td>4.000000</td>\n",
       "      <td>8.000000</td>\n",
       "      <td>2210.000000</td>\n",
       "      <td>560.000000</td>\n",
       "      <td>1997.000000</td>\n",
       "      <td>0.000000</td>\n",
       "      <td>47.678000</td>\n",
       "      <td>-122.125000</td>\n",
       "      <td>2360.000000</td>\n",
       "      <td>10083.000000</td>\n",
       "    </tr>\n",
       "    <tr>\n",
       "      <th>max</th>\n",
       "      <td>7.700000e+06</td>\n",
       "      <td>33.000000</td>\n",
       "      <td>8.000000</td>\n",
       "      <td>13540.000000</td>\n",
       "      <td>1.651359e+06</td>\n",
       "      <td>3.500000</td>\n",
       "      <td>1.000000</td>\n",
       "      <td>4.000000</td>\n",
       "      <td>5.000000</td>\n",
       "      <td>13.000000</td>\n",
       "      <td>9410.000000</td>\n",
       "      <td>4820.000000</td>\n",
       "      <td>2015.000000</td>\n",
       "      <td>2015.000000</td>\n",
       "      <td>47.777600</td>\n",
       "      <td>-121.315000</td>\n",
       "      <td>6210.000000</td>\n",
       "      <td>871200.000000</td>\n",
       "    </tr>\n",
       "  </tbody>\n",
       "</table>\n",
       "</div>"
      ],
      "text/plain": [
       "              price      bedrooms     bathrooms   sqft_living      sqft_lot  \\\n",
       "count  2.161300e+04  21613.000000  21613.000000  21613.000000  2.161300e+04   \n",
       "mean   5.400881e+05      3.370842      2.114757   2079.899736  1.510697e+04   \n",
       "std    3.671272e+05      0.930062      0.770163    918.440897  4.142051e+04   \n",
       "min    7.500000e+04      0.000000      0.000000    290.000000  5.200000e+02   \n",
       "25%    3.219500e+05      3.000000      1.750000   1427.000000  5.040000e+03   \n",
       "50%    4.500000e+05      3.000000      2.250000   1910.000000  7.618000e+03   \n",
       "75%    6.450000e+05      4.000000      2.500000   2550.000000  1.068800e+04   \n",
       "max    7.700000e+06     33.000000      8.000000  13540.000000  1.651359e+06   \n",
       "\n",
       "             floors    waterfront          view     condition         grade  \\\n",
       "count  21613.000000  21613.000000  21613.000000  21613.000000  21613.000000   \n",
       "mean       1.494309      0.007542      0.234303      3.409430      7.656873   \n",
       "std        0.539989      0.086517      0.766318      0.650743      1.175459   \n",
       "min        1.000000      0.000000      0.000000      1.000000      1.000000   \n",
       "25%        1.000000      0.000000      0.000000      3.000000      7.000000   \n",
       "50%        1.500000      0.000000      0.000000      3.000000      7.000000   \n",
       "75%        2.000000      0.000000      0.000000      4.000000      8.000000   \n",
       "max        3.500000      1.000000      4.000000      5.000000     13.000000   \n",
       "\n",
       "         sqft_above  sqft_basement      yr_built  yr_renovated           lat  \\\n",
       "count  21613.000000   21613.000000  21613.000000  21613.000000  21613.000000   \n",
       "mean    1788.390691     291.509045   1971.005136     84.402258     47.560053   \n",
       "std      828.090978     442.575043     29.373411    401.679240      0.138564   \n",
       "min      290.000000       0.000000   1900.000000      0.000000     47.155900   \n",
       "25%     1190.000000       0.000000   1951.000000      0.000000     47.471000   \n",
       "50%     1560.000000       0.000000   1975.000000      0.000000     47.571800   \n",
       "75%     2210.000000     560.000000   1997.000000      0.000000     47.678000   \n",
       "max     9410.000000    4820.000000   2015.000000   2015.000000     47.777600   \n",
       "\n",
       "               long  sqft_living15     sqft_lot15  \n",
       "count  21613.000000   21613.000000   21613.000000  \n",
       "mean    -122.213896    1986.552492   12768.455652  \n",
       "std        0.140828     685.391304   27304.179631  \n",
       "min     -122.519000     399.000000     651.000000  \n",
       "25%     -122.328000    1490.000000    5100.000000  \n",
       "50%     -122.230000    1840.000000    7620.000000  \n",
       "75%     -122.125000    2360.000000   10083.000000  \n",
       "max     -121.315000    6210.000000  871200.000000  "
      ]
     },
     "execution_count": 5,
     "metadata": {},
     "output_type": "execute_result"
    }
   ],
   "source": [
    "df.describe()"
   ]
  },
  {
   "cell_type": "markdown",
   "metadata": {},
   "source": [
    "De los estadísticos presentados para cada columna, es posible apreciar que todas las columnas poseen un valor diferente, y en distintas magnitudes, para el promedio y la desviación estándar. Además, se observa que cada columna presenta su propia escala, produciendo grandes diferencias entre los distintos atributos. Finalmente es posible apreciar que los atributos que no aplican para cada columna se representan con un cero, es decir si una casa no se ha remodelado el valor para el año de remodelación es 0, y así para cada atributo que no aplique en cada registro. "
   ]
  },
  {
   "cell_type": "markdown",
   "metadata": {},
   "source": [
    "## c) Normalice los datos antes de trabajar y aplique una trasformación adecuada a la variable a predecir. Explique la importancia/conveniencia de realizar estas dos operaciones.\n",
    "\n",
    "Antes de determinar la regresión lineal ordinaria es necesario normalizar los datos, es decir hacer que las características de los datos tengan media cero y varianza unitaria. \n",
    "\n",
    "El normalizar o estandarización de los datos es requerimiento común en muchos métodos de aprendizaje automático, en especial de una LSS donde los supuestos consisten en que las características de los datos poseen media cero y varianza unitaria. Si se entrena una LSS con un conjunto de datos no estandarizado/normalizado es de esperar que el resultado obtenido sea malo.  Además, los regularizadores, como el l1 y l2, azumen que las características están centradas en el cero y que las varianzas están en la misma magnitud, si las características poseen varianzas en distintas magnitudes, las de mayor magnitud predominaran en la función objetivo haciendo que el modelo no sea capaz de aprender otras características como se esperaría. \n",
    "\n",
    "\n",
    "Finalmente se aplica una trasformación a la variable estudiada para que esta posea un comportamiento lineal y así poder ser estimada correctamente por el modelo a generar."
   ]
  },
  {
   "cell_type": "code",
   "execution_count": 6,
   "metadata": {},
   "outputs": [
    {
     "data": {
      "text/html": [
       "<div>\n",
       "<style>\n",
       "    .dataframe thead tr:only-child th {\n",
       "        text-align: right;\n",
       "    }\n",
       "\n",
       "    .dataframe thead th {\n",
       "        text-align: left;\n",
       "    }\n",
       "\n",
       "    .dataframe tbody tr th {\n",
       "        vertical-align: top;\n",
       "    }\n",
       "</style>\n",
       "<table border=\"1\" class=\"dataframe\">\n",
       "  <thead>\n",
       "    <tr style=\"text-align: right;\">\n",
       "      <th></th>\n",
       "      <th>price</th>\n",
       "      <th>bedrooms</th>\n",
       "      <th>bathrooms</th>\n",
       "      <th>sqft_living</th>\n",
       "      <th>sqft_lot</th>\n",
       "      <th>floors</th>\n",
       "      <th>waterfront</th>\n",
       "      <th>view</th>\n",
       "      <th>condition</th>\n",
       "      <th>grade</th>\n",
       "      <th>sqft_above</th>\n",
       "      <th>sqft_basement</th>\n",
       "      <th>yr_built</th>\n",
       "      <th>yr_renovated</th>\n",
       "      <th>lat</th>\n",
       "      <th>long</th>\n",
       "      <th>sqft_living15</th>\n",
       "      <th>sqft_lot15</th>\n",
       "    </tr>\n",
       "  </thead>\n",
       "  <tbody>\n",
       "    <tr>\n",
       "      <th>count</th>\n",
       "      <td>21613.000000</td>\n",
       "      <td>2.161300e+04</td>\n",
       "      <td>2.161300e+04</td>\n",
       "      <td>2.161300e+04</td>\n",
       "      <td>2.161300e+04</td>\n",
       "      <td>2.161300e+04</td>\n",
       "      <td>2.161300e+04</td>\n",
       "      <td>2.161300e+04</td>\n",
       "      <td>2.161300e+04</td>\n",
       "      <td>2.161300e+04</td>\n",
       "      <td>2.161300e+04</td>\n",
       "      <td>2.161300e+04</td>\n",
       "      <td>2.161300e+04</td>\n",
       "      <td>2.161300e+04</td>\n",
       "      <td>2.161300e+04</td>\n",
       "      <td>2.161300e+04</td>\n",
       "      <td>2.161300e+04</td>\n",
       "      <td>2.161300e+04</td>\n",
       "    </tr>\n",
       "    <tr>\n",
       "      <th>mean</th>\n",
       "      <td>13.047817</td>\n",
       "      <td>-1.254167e-15</td>\n",
       "      <td>-1.051951e-15</td>\n",
       "      <td>3.174253e-16</td>\n",
       "      <td>3.281921e-17</td>\n",
       "      <td>-1.753125e-14</td>\n",
       "      <td>1.482989e-15</td>\n",
       "      <td>1.853096e-15</td>\n",
       "      <td>-2.636807e-15</td>\n",
       "      <td>-2.328998e-15</td>\n",
       "      <td>3.892022e-16</td>\n",
       "      <td>-2.022801e-15</td>\n",
       "      <td>3.592925e-15</td>\n",
       "      <td>4.348961e-15</td>\n",
       "      <td>-3.446807e-14</td>\n",
       "      <td>-3.637898e-14</td>\n",
       "      <td>-1.506632e-16</td>\n",
       "      <td>1.235382e-16</td>\n",
       "    </tr>\n",
       "    <tr>\n",
       "      <th>std</th>\n",
       "      <td>0.526685</td>\n",
       "      <td>1.000023e+00</td>\n",
       "      <td>1.000023e+00</td>\n",
       "      <td>1.000023e+00</td>\n",
       "      <td>1.000023e+00</td>\n",
       "      <td>1.000023e+00</td>\n",
       "      <td>1.000023e+00</td>\n",
       "      <td>1.000023e+00</td>\n",
       "      <td>1.000023e+00</td>\n",
       "      <td>1.000023e+00</td>\n",
       "      <td>1.000023e+00</td>\n",
       "      <td>1.000023e+00</td>\n",
       "      <td>1.000023e+00</td>\n",
       "      <td>1.000023e+00</td>\n",
       "      <td>1.000023e+00</td>\n",
       "      <td>1.000023e+00</td>\n",
       "      <td>1.000023e+00</td>\n",
       "      <td>1.000023e+00</td>\n",
       "    </tr>\n",
       "    <tr>\n",
       "      <th>min</th>\n",
       "      <td>11.225243</td>\n",
       "      <td>-3.624404e+00</td>\n",
       "      <td>-2.745920e+00</td>\n",
       "      <td>-1.948891e+00</td>\n",
       "      <td>-3.521759e-01</td>\n",
       "      <td>-9.154270e-01</td>\n",
       "      <td>-8.717263e-02</td>\n",
       "      <td>-3.057595e-01</td>\n",
       "      <td>-3.702668e+00</td>\n",
       "      <td>-5.663344e+00</td>\n",
       "      <td>-1.809494e+00</td>\n",
       "      <td>-6.586810e-01</td>\n",
       "      <td>-2.417383e+00</td>\n",
       "      <td>-2.101284e-01</td>\n",
       "      <td>-2.916795e+00</td>\n",
       "      <td>-2.166543e+00</td>\n",
       "      <td>-2.316325e+00</td>\n",
       "      <td>-4.438052e-01</td>\n",
       "    </tr>\n",
       "    <tr>\n",
       "      <th>25%</th>\n",
       "      <td>12.682152</td>\n",
       "      <td>-3.987371e-01</td>\n",
       "      <td>-4.736214e-01</td>\n",
       "      <td>-7.108948e-01</td>\n",
       "      <td>-2.430487e-01</td>\n",
       "      <td>-9.154270e-01</td>\n",
       "      <td>-8.717263e-02</td>\n",
       "      <td>-3.057595e-01</td>\n",
       "      <td>-6.291869e-01</td>\n",
       "      <td>-5.588357e-01</td>\n",
       "      <td>-7.226314e-01</td>\n",
       "      <td>-6.586810e-01</td>\n",
       "      <td>-6.810785e-01</td>\n",
       "      <td>-2.101284e-01</td>\n",
       "      <td>-6.426977e-01</td>\n",
       "      <td>-8.102505e-01</td>\n",
       "      <td>-7.244971e-01</td>\n",
       "      <td>-2.808593e-01</td>\n",
       "    </tr>\n",
       "    <tr>\n",
       "      <th>50%</th>\n",
       "      <td>13.017003</td>\n",
       "      <td>-3.987371e-01</td>\n",
       "      <td>1.756067e-01</td>\n",
       "      <td>-1.849914e-01</td>\n",
       "      <td>-1.808075e-01</td>\n",
       "      <td>1.053939e-02</td>\n",
       "      <td>-8.717263e-02</td>\n",
       "      <td>-3.057595e-01</td>\n",
       "      <td>-6.291869e-01</td>\n",
       "      <td>-5.588357e-01</td>\n",
       "      <td>-2.758102e-01</td>\n",
       "      <td>-6.586810e-01</td>\n",
       "      <td>1.360059e-01</td>\n",
       "      <td>-2.101284e-01</td>\n",
       "      <td>8.478232e-02</td>\n",
       "      <td>-1.143518e-01</td>\n",
       "      <td>-2.138280e-01</td>\n",
       "      <td>-1.885636e-01</td>\n",
       "    </tr>\n",
       "    <tr>\n",
       "      <th>75%</th>\n",
       "      <td>13.377006</td>\n",
       "      <td>6.764851e-01</td>\n",
       "      <td>5.002207e-01</td>\n",
       "      <td>5.118578e-01</td>\n",
       "      <td>-1.066880e-01</td>\n",
       "      <td>9.365058e-01</td>\n",
       "      <td>-8.717263e-02</td>\n",
       "      <td>-3.057595e-01</td>\n",
       "      <td>9.075535e-01</td>\n",
       "      <td>2.919156e-01</td>\n",
       "      <td>5.091458e-01</td>\n",
       "      <td>6.066704e-01</td>\n",
       "      <td>8.849999e-01</td>\n",
       "      <td>-2.101284e-01</td>\n",
       "      <td>8.512345e-01</td>\n",
       "      <td>6.312541e-01</td>\n",
       "      <td>5.448802e-01</td>\n",
       "      <td>-9.835556e-02</td>\n",
       "    </tr>\n",
       "    <tr>\n",
       "      <th>max</th>\n",
       "      <td>15.856731</td>\n",
       "      <td>3.185793e+01</td>\n",
       "      <td>7.641730e+00</td>\n",
       "      <td>1.247807e+01</td>\n",
       "      <td>3.950434e+01</td>\n",
       "      <td>3.714405e+00</td>\n",
       "      <td>1.147149e+01</td>\n",
       "      <td>4.914129e+00</td>\n",
       "      <td>2.444294e+00</td>\n",
       "      <td>4.545672e+00</td>\n",
       "      <td>9.204044e+00</td>\n",
       "      <td>1.023238e+01</td>\n",
       "      <td>1.497813e+00</td>\n",
       "      <td>4.806428e+00</td>\n",
       "      <td>1.570054e+00</td>\n",
       "      <td>6.383070e+00</td>\n",
       "      <td>6.162239e+00</td>\n",
       "      <td>3.144029e+01</td>\n",
       "    </tr>\n",
       "  </tbody>\n",
       "</table>\n",
       "</div>"
      ],
      "text/plain": [
       "              price      bedrooms     bathrooms   sqft_living      sqft_lot  \\\n",
       "count  21613.000000  2.161300e+04  2.161300e+04  2.161300e+04  2.161300e+04   \n",
       "mean      13.047817 -1.254167e-15 -1.051951e-15  3.174253e-16  3.281921e-17   \n",
       "std        0.526685  1.000023e+00  1.000023e+00  1.000023e+00  1.000023e+00   \n",
       "min       11.225243 -3.624404e+00 -2.745920e+00 -1.948891e+00 -3.521759e-01   \n",
       "25%       12.682152 -3.987371e-01 -4.736214e-01 -7.108948e-01 -2.430487e-01   \n",
       "50%       13.017003 -3.987371e-01  1.756067e-01 -1.849914e-01 -1.808075e-01   \n",
       "75%       13.377006  6.764851e-01  5.002207e-01  5.118578e-01 -1.066880e-01   \n",
       "max       15.856731  3.185793e+01  7.641730e+00  1.247807e+01  3.950434e+01   \n",
       "\n",
       "             floors    waterfront          view     condition         grade  \\\n",
       "count  2.161300e+04  2.161300e+04  2.161300e+04  2.161300e+04  2.161300e+04   \n",
       "mean  -1.753125e-14  1.482989e-15  1.853096e-15 -2.636807e-15 -2.328998e-15   \n",
       "std    1.000023e+00  1.000023e+00  1.000023e+00  1.000023e+00  1.000023e+00   \n",
       "min   -9.154270e-01 -8.717263e-02 -3.057595e-01 -3.702668e+00 -5.663344e+00   \n",
       "25%   -9.154270e-01 -8.717263e-02 -3.057595e-01 -6.291869e-01 -5.588357e-01   \n",
       "50%    1.053939e-02 -8.717263e-02 -3.057595e-01 -6.291869e-01 -5.588357e-01   \n",
       "75%    9.365058e-01 -8.717263e-02 -3.057595e-01  9.075535e-01  2.919156e-01   \n",
       "max    3.714405e+00  1.147149e+01  4.914129e+00  2.444294e+00  4.545672e+00   \n",
       "\n",
       "         sqft_above  sqft_basement      yr_built  yr_renovated           lat  \\\n",
       "count  2.161300e+04   2.161300e+04  2.161300e+04  2.161300e+04  2.161300e+04   \n",
       "mean   3.892022e-16  -2.022801e-15  3.592925e-15  4.348961e-15 -3.446807e-14   \n",
       "std    1.000023e+00   1.000023e+00  1.000023e+00  1.000023e+00  1.000023e+00   \n",
       "min   -1.809494e+00  -6.586810e-01 -2.417383e+00 -2.101284e-01 -2.916795e+00   \n",
       "25%   -7.226314e-01  -6.586810e-01 -6.810785e-01 -2.101284e-01 -6.426977e-01   \n",
       "50%   -2.758102e-01  -6.586810e-01  1.360059e-01 -2.101284e-01  8.478232e-02   \n",
       "75%    5.091458e-01   6.066704e-01  8.849999e-01 -2.101284e-01  8.512345e-01   \n",
       "max    9.204044e+00   1.023238e+01  1.497813e+00  4.806428e+00  1.570054e+00   \n",
       "\n",
       "               long  sqft_living15    sqft_lot15  \n",
       "count  2.161300e+04   2.161300e+04  2.161300e+04  \n",
       "mean  -3.637898e-14  -1.506632e-16  1.235382e-16  \n",
       "std    1.000023e+00   1.000023e+00  1.000023e+00  \n",
       "min   -2.166543e+00  -2.316325e+00 -4.438052e-01  \n",
       "25%   -8.102505e-01  -7.244971e-01 -2.808593e-01  \n",
       "50%   -1.143518e-01  -2.138280e-01 -1.885636e-01  \n",
       "75%    6.312541e-01   5.448802e-01 -9.835556e-02  \n",
       "max    6.383070e+00   6.162239e+00  3.144029e+01  "
      ]
     },
     "execution_count": 6,
     "metadata": {},
     "output_type": "execute_result"
    }
   ],
   "source": [
    "scaler = StandardScaler()\n",
    "df_scaled = pd.DataFrame(scaler.fit_transform(df), columns=df.columns)\n",
    "df_scaled['price'] = np.log(df['price'])\n",
    "df_scaled.describe()"
   ]
  },
  {
   "cell_type": "markdown",
   "metadata": {},
   "source": [
    "Después de normalizar el conjunto de datos, se aprecia que las medias de las características son casi iguales a cero, y las varianzas son casi iguales a uno."
   ]
  },
  {
   "cell_type": "code",
   "execution_count": 7,
   "metadata": {
    "collapsed": true
   },
   "outputs": [],
   "source": [
    "def set_style(axarr, lx, ly, title):\n",
    "    axarr.set_xlabel(lx)\n",
    "    axarr.set_ylabel(ly)\n",
    "    axarr.set_title(title)\n",
    "    axarr.grid(True)"
   ]
  },
  {
   "cell_type": "code",
   "execution_count": 8,
   "metadata": {},
   "outputs": [
    {
     "data": {
      "image/png": "[encoded data removed]",
      "text/plain": [
       "<matplotlib.figure.Figure at 0xc33a470>"
      ]
     },
     "metadata": {},
     "output_type": "display_data"
    }
   ],
   "source": [
    "f, axarr = plt.subplots(3, 2,figsize=(12,15))\n",
    "\n",
    "axarr[0, 0].plot(df['price'], 'b.')\n",
    "set_style(axarr[0,0], '', '', '')\n",
    "\n",
    "axarr[0, 1].plot(df_scaled['price'], 'b.')\n",
    "set_style(axarr[0,1], '', '', '')\n",
    "\n",
    "axarr[1, 0].hist(df['price'], bins='auto', alpha=0.5)\n",
    "set_style(axarr[1,0], '', '', 'Histograma precio original')\n",
    "\n",
    "axarr[1, 1].hist(df_scaled['price'], bins='auto', alpha=0.5)\n",
    "set_style(axarr[1,1], '', '', 'Histograma precio modificado')\n",
    "\n",
    "axarr[2, 0].hist(df['yr_built'], bins='auto')\n",
    "set_style(axarr[2,0], '', '', u'Histograma del año de construcción original')\n",
    "\n",
    "axarr[2, 1].hist(df_scaled['yr_built'], bins='auto')\n",
    "set_style(axarr[2,1], '', '', u'Histograma del año de construcción modificado')\n",
    "\n",
    "plt.show()"
   ]
  },
  {
   "cell_type": "markdown",
   "metadata": {},
   "source": [
    "De los gráficos del precio antes y después de realizar la normalización se aprecia que la escala del precio se modifica drásticamente a una de menor amplitud donde la distribución de registros presenta una mayor homogeneidad, es decir no se aprecian grandes distancias entre los distintos valores. De los histogramas del año de construcción se aprecia que la normalización de los datos no afecto la distribución original de estos, solo modifico la media y la varianza."
   ]
  },
  {
   "cell_type": "markdown",
   "metadata": {
    "collapsed": true
   },
   "source": [
    "## d) Realice una regresiónlineal de mínimos cuadrados básica. Explique la importancia/conveniencia del paso 4 y los argumentos que se deben entregar a la funcion que implementa la regresión lineal.\n",
    "Primero se separa el conjunto de datos en la matriz $X$ y el vector de precios $y$"
   ]
  },
  {
   "cell_type": "code",
   "execution_count": 9,
   "metadata": {},
   "outputs": [],
   "source": [
    "X = df_scaled.iloc[:,1:]\n",
    "N = X.shape[0]\n",
    "X.insert(X.shape[1], 'intercept', np.ones(N))\n",
    "y = df_scaled['price']"
   ]
  },
  {
   "cell_type": "markdown",
   "metadata": {},
   "source": [
    "El modelo que se desea construir posee la siguiente forma:\n",
    "$$\\hat{y} = \\hat\\beta \\cdot X + \\beta_0$$\n",
    "Lo cual implica determinar el valor de $\\hat\\beta$ y $\\hat\\beta_0$, pero este modelo se puede simplificar combinando los valores de $\\hat\\beta$ y $\\hat\\beta_0$, resultando el siguiente modelo:\n",
    "$$\\hat{y} = \\hat\\beta \\cdot X$$\n",
    "Donde la matriz $X$ pose dimensiones $n \\times d+1$, y los valores añadidos en $X$ son iguales a 1 debido a la identidad. Este nuevo modelo pose un entrenamiento de menor complejidad en comparación al primer modelo ya que solo es necesario determinar el valor de $\\hat\\beta$, \n",
    "\n",
    "Después se crean los conjuntos de entrenamiento ($X_{train}$) y prueba ($X_{test}$) a partir de los conjuntos originales, para realizar dicha separación se asignaron los primeros 15129 elementos al conjunto de entrenamiento y los restantes al conjunto de pruebas."
   ]
  },
  {
   "cell_type": "code",
   "execution_count": 10,
   "metadata": {
    "collapsed": true
   },
   "outputs": [],
   "source": [
    "mascara = np.zeros(len(X))\n",
    "limit = int(len(X)*0.7)\n",
    "mascara[:limit] = 1\n",
    "istrain = mascara== 1\n",
    "Xtrain = X[istrain]\n",
    "ytrain = y[istrain]\n",
    "Xtest = X[np.logical_not(istrain)]\n",
    "ytest = y[np.logical_not(istrain)]"
   ]
  },
  {
   "cell_type": "markdown",
   "metadata": {},
   "source": [
    "Finalmente se crea el modelo de la LSS y se entrena."
   ]
  },
  {
   "cell_type": "code",
   "execution_count": 11,
   "metadata": {},
   "outputs": [
    {
     "data": {
      "text/plain": [
       "LinearRegression(copy_X=True, fit_intercept=False, n_jobs=1, normalize=False)"
      ]
     },
     "execution_count": 11,
     "metadata": {},
     "output_type": "execute_result"
    }
   ],
   "source": [
    "linreg = lm.LinearRegression(fit_intercept = False)\n",
    "linreg.fit(Xtrain, ytrain)"
   ]
  },
  {
   "cell_type": "markdown",
   "metadata": {},
   "source": [
    "Finalmente se evalúa el modelo realizado obteniéndose una precisión igual a 93%"
   ]
  },
  {
   "cell_type": "code",
   "execution_count": 22,
   "metadata": {},
   "outputs": [
    {
     "name": "stdout",
     "output_type": "stream",
     "text": [
      "Mean squared error: 0.07\n",
      "Variance score: 0.76\n"
     ]
    }
   ],
   "source": [
    "ypred = linreg.predict(Xtest)\n",
    "print(\"Mean squared error: %.2f\" % mean_squared_error(ytest,ypred))\n",
    "# Explained variance score: 1 is perfect prediction\n",
    "print('Variance score: %.2f' % r2_score(ytest, ypred))"
   ]
  },
  {
   "cell_type": "markdown",
   "metadata": {},
   "source": [
    "## e) Construya una tabla con los pesos y Z-score correspondientes a cada predictor. ¿Qué variables están más correlacionadas con la respuesta? Si usáramos un nivel de significación del 5%. ¿Qué es lo que observa y cuál puede ser la causa?"
   ]
  },
  {
   "cell_type": "code",
   "execution_count": 14,
   "metadata": {},
   "outputs": [
    {
     "name": "stderr",
     "output_type": "stream",
     "text": [
      "C:\\Users\\tres1\\Anaconda3\\envs\\py27\\lib\\site-packages\\ipykernel_launcher.py:6: RuntimeWarning: invalid value encountered in sqrt\n",
      "  \n"
     ]
    },
    {
     "data": {
      "text/plain": [
       "array([ -3.01865620e+00,   1.45815225e+01,              nan,\n",
       "         7.55886812e+00,   1.22075132e+01,   1.47105290e+01,\n",
       "         1.73022959e+01,   2.04324161e+01,   4.78238316e+01,\n",
       "                    nan,              nan,  -3.36187772e+01,\n",
       "         6.85476191e+00,   8.53589478e+01,  -1.58180027e+00,\n",
       "         2.34488408e+01,  -2.33484989e+00,   6.18879424e+03])"
      ]
     },
     "execution_count": 14,
     "metadata": {},
     "output_type": "execute_result"
    }
   ],
   "source": [
    "X_m = Xtrain.as_matrix()\n",
    "vj = np.diag(np.linalg.inv(X_m.T.dot(X_m)))\n",
    "beta_est = linreg.coef_\n",
    "sigma_est = np.sqrt(np.mean( (ypred - ytest)**2))\n",
    "\n",
    "Zscore = beta_est/(sigma_est*np.sqrt(vj))\n",
    "Zscore"
   ]
  },
  {
   "cell_type": "code",
   "execution_count": null,
   "metadata": {
    "collapsed": true
   },
   "outputs": [],
   "source": []
  },
  {
   "cell_type": "code",
   "execution_count": 15,
   "metadata": {},
   "outputs": [
    {
     "data": {
      "text/plain": [
       "array([  1.15008239e-04,   2.25685494e-04,  -8.36131868e+10,\n",
       "         1.31693286e-04,   1.45329726e-04,   7.95928908e-05,\n",
       "         9.06468643e-05,   7.52435192e-05,   2.32319926e-04,\n",
       "        -6.79717504e+10,  -1.94153931e+10,   1.63679249e-04,\n",
       "         7.14145385e-05,   7.29759531e-05,   1.01906417e-04,\n",
       "         2.05793568e-04,   1.38230362e-04,   6.80268750e-05])"
      ]
     },
     "execution_count": 15,
     "metadata": {},
     "output_type": "execute_result"
    }
   ],
   "source": [
    "vj"
   ]
  },
  {
   "cell_type": "code",
   "execution_count": 16,
   "metadata": {},
   "outputs": [
    {
     "data": {
      "text/plain": [
       "array([ -8.26987934e-03,   5.59597464e-02,   5.77687964e-02,\n",
       "         2.21594833e-02,   3.75946006e-02,   3.35263653e-02,\n",
       "         4.20824650e-02,   4.52767575e-02,   1.86212419e-01,\n",
       "         4.71301183e-02,   3.16990298e-02,  -1.09875223e-01,\n",
       "         1.47981265e-02,   1.86277321e-01,  -4.07918551e-03,\n",
       "         8.59326727e-02,  -7.01264301e-03,   1.30396924e+01])"
      ]
     },
     "execution_count": 16,
     "metadata": {},
     "output_type": "execute_result"
    }
   ],
   "source": [
    "linreg.coef_"
   ]
  },
  {
   "cell_type": "markdown",
   "metadata": {},
   "source": [
    "## f) Propornga un método para corregir lo observado. Verifíquelo mediante los Z-score presentados en la pregunta anterior."
   ]
  },
  {
   "cell_type": "markdown",
   "metadata": {},
   "source": [
    "****Como disernir sobre el z score ****"
   ]
  },
  {
   "cell_type": "markdown",
   "metadata": {},
   "source": [
    "**2. Selección de Atributos **"
   ]
  },
  {
   "cell_type": "markdown",
   "metadata": {},
   "source": [
    "Forward Step-wise Selection"
   ]
  },
  {
   "cell_type": "code",
   "execution_count": 17,
   "metadata": {
    "collapsed": true
   },
   "outputs": [],
   "source": [
    "def fss(x, y, names_x, k = 10000):\n",
    "\tp = x.shape[1]-1\n",
    "\tk = min(p, k)\n",
    "\tnames_x = np.array(names_x)\n",
    "\tremaining = range(0, p)\n",
    "\tselected = [p]\n",
    "\tcurrent_score = best_new_score = 0.0\n",
    "\twhile remaining and len(selected)<=k :\n",
    "\t\tscore_candidates = []\n",
    "\t\tfor candidate in remaining:\n",
    "\t\t\tmodel = lm.LinearRegression(fit_intercept=False)\n",
    "\t\t\tindexes = selected + [candidate]\n",
    "\t\t\tx_train = x[:,indexes]\n",
    "\t\t\tpredictions_train = model.fit(x_train, y).predict(x_train)\n",
    "\t\t\tresiduals_train = predictions_train - y\n",
    "\t\t\tmse_candidate = np.mean(np.power(residuals_train, 2))\n",
    "\t\t\tscore_candidates.append((mse_candidate, candidate))\n",
    "\t\tscore_candidates.sort()\n",
    "\t\tscore_candidates[:] = score_candidates[::-1]\n",
    "\t\tbest_new_score, best_candidate = score_candidates.pop()\n",
    "\t\tremaining.remove(best_candidate)\n",
    "\t\tselected.append(best_candidate)\n",
    "\t\tprint \"selected = %s ...\"%names_x[best_candidate]\n",
    "\t\tprint \"totalvars=%d, mse = %f\"%(len(indexes),best_new_score)\n",
    "\treturn selected"
   ]
  },
  {
   "cell_type": "code",
   "execution_count": 18,
   "metadata": {},
   "outputs": [
    {
     "ename": "NameError",
     "evalue": "name 'Xm' is not defined",
     "output_type": "error",
     "traceback": [
      "\u001b[1;31m---------------------------------------------------------------------------\u001b[0m",
      "\u001b[1;31mNameError\u001b[0m                                 Traceback (most recent call last)",
      "\u001b[1;32m<ipython-input-18-3472e9799250>\u001b[0m in \u001b[0;36m<module>\u001b[1;34m()\u001b[0m\n\u001b[0;32m      1\u001b[0m \u001b[0mnames_regressors\u001b[0m \u001b[1;33m=\u001b[0m \u001b[0mX\u001b[0m\u001b[1;33m.\u001b[0m\u001b[0mcolumns\u001b[0m\u001b[1;33m[\u001b[0m\u001b[1;33m:\u001b[0m\u001b[1;33m-\u001b[0m\u001b[1;36m1\u001b[0m\u001b[1;33m]\u001b[0m \u001b[1;31m#without intercept\u001b[0m\u001b[1;33m\u001b[0m\u001b[0m\n\u001b[1;32m----> 2\u001b[1;33m \u001b[0mfss\u001b[0m\u001b[1;33m(\u001b[0m\u001b[0mXm\u001b[0m\u001b[1;33m,\u001b[0m\u001b[0mym\u001b[0m\u001b[1;33m,\u001b[0m\u001b[0mnames_regressors\u001b[0m\u001b[1;33m)\u001b[0m\u001b[1;33m\u001b[0m\u001b[0m\n\u001b[0m",
      "\u001b[1;31mNameError\u001b[0m: name 'Xm' is not defined"
     ]
    }
   ],
   "source": [
    "names_regressors = X.columns[:-1] #without intercept\n",
    "fss(Xm,ym,names_regressors)"
   ]
  },
  {
   "cell_type": "markdown",
   "metadata": {},
   "source": [
    "**3. Regularización**"
   ]
  },
  {
   "cell_type": "code",
   "execution_count": null,
   "metadata": {
    "collapsed": true
   },
   "outputs": [],
   "source": []
  }
 ],
 "metadata": {
  "kernelspec": {
   "display_name": "Python 2",
   "language": "python",
   "name": "python2"
  },
  "language_info": {
   "codemirror_mode": {
    "name": "ipython",
    "version": 2
   },
   "file_extension": ".py",
   "mimetype": "text/x-python",
   "name": "python",
   "nbconvert_exporter": "python",
   "pygments_lexer": "ipython2",
   "version": "2.7.13"
  }
 },
 "nbformat": 4,
 "nbformat_minor": 2
}
